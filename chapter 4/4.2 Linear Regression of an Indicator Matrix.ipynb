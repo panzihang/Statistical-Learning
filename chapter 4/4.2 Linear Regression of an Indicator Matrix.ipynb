{
 "cells": [
  {
   "cell_type": "markdown",
   "metadata": {},
   "source": [
    "Denote $t_k$ as the $k$th column of $\\mathbf{I}_K$, the $K\\times K$ identity matrix, then a more simplistic viewpoint is to construct targets $t_k$ for each class. The response vector ($i$th row of $\\mathbf{Y}$)\n",
    "\n",
    "$$\n",
    "y_i = t_k \\text{ if } g_i = k.\n",
    "$$\n",
    "We might then fit the linear model by least squares: The criterion is a sum-of-squared Euclidean distances of the fitted vectors from their targets.\n",
    "\n",
    "$$\n",
    "\\min_{\\mathbf{B}} \\sum_{i=1}^N \\left\\| y_i - \\left[ (1,x_i^T)\\mathbf{B} \\right]^T \\right\\|^2.\n",
    "$$\n",
    "Then a new observation is classified by computing its fitted vector $\\hat{f}(x)$ and classifying to the closest target:\n",
    "\n",
    "$$\n",
    "\\hat{G}(x) = \\arg\\max_k \\left\\| \\hat{f}(x)-t_k \\right\\|^2.\n",
    "$$"
   ]
  },
  {
   "cell_type": "code",
   "execution_count": 3,
   "metadata": {},
   "outputs": [],
   "source": [
    "import numpy as np\n",
    "import pandas as pd\n",
    "import matplotlib.pyplot as plt"
   ]
  },
  {
   "cell_type": "markdown",
   "metadata": {},
   "source": [
    "## Build simulation data"
   ]
  },
  {
   "cell_type": "code",
   "execution_count": 18,
   "metadata": {},
   "outputs": [],
   "source": [
    "size = 300\n",
    "mat_cov = np.eye(2)\n",
    "cluster1 = np.random.multivariate_normal([-4,-4], mat_cov, size)\n",
    "cluster2 = np.random.multivariate_normal([0,0], mat_cov, size)\n",
    "cluster3 = np.random.multivariate_normal([4,4], mat_cov, size)\n",
    "target1, target2, target3 = np.eye(3)\n",
    "mat_x0 = np.concatenate((cluster1, cluster2, cluster3))\n",
    "mat_x = np.hstack((np.ones((size*3, 1)), mat_x0))\n",
    "mat_y = np.vstack((np.tile(target1, (size,1)),\n",
    "                   np.tile(target2, (size,1)),\n",
    "                   np.tile(target3, (size,1))))\n"
   ]
  },
  {
   "cell_type": "code",
   "execution_count": 20,
   "metadata": {},
   "outputs": [
    {
     "data": {
      "text/plain": [
       "array([[ 1.        , -3.83798961, -3.17293632],\n",
       "       [ 1.        , -5.21213984, -5.67686347],\n",
       "       [ 1.        , -4.58283649, -3.82624305],\n",
       "       ...,\n",
       "       [ 1.        ,  4.55774804,  3.81407212],\n",
       "       [ 1.        ,  3.37494523,  4.9963007 ],\n",
       "       [ 1.        ,  3.52161258,  4.95818875]])"
      ]
     },
     "execution_count": 20,
     "metadata": {},
     "output_type": "execute_result"
    }
   ],
   "source": [
    "mat_x"
   ]
  },
  {
   "cell_type": "code",
   "execution_count": 21,
   "metadata": {},
   "outputs": [
    {
     "data": {
      "text/plain": [
       "array([[1., 0., 0.],\n",
       "       [1., 0., 0.],\n",
       "       [1., 0., 0.],\n",
       "       ...,\n",
       "       [0., 0., 1.],\n",
       "       [0., 0., 1.],\n",
       "       [0., 0., 1.]])"
      ]
     },
     "execution_count": 21,
     "metadata": {},
     "output_type": "execute_result"
    }
   ],
   "source": [
    "mat_y"
   ]
  },
  {
   "cell_type": "code",
   "execution_count": 24,
   "metadata": {},
   "outputs": [
    {
     "data": {
      "image/png": "[encoded data removed]",
      "text/plain": [
       "<Figure size 360x360 with 1 Axes>"
      ]
     },
     "metadata": {
      "needs_background": "light"
     },
     "output_type": "display_data"
    }
   ],
   "source": [
    "fig1 = plt.figure(0, figsize = (5,5))\n",
    "fig1.clear()\n",
    "ax = fig1.add_subplot(1,1,1)\n",
    "ax.plot(cluster1[:,0], cluster1[:,1], 'o', color = 'C0', markersize=2)\n",
    "ax.plot(cluster2[:,0], cluster2[:,1], 'o', color = 'C1', markersize=2)\n",
    "ax.plot(cluster3[:,0], cluster3[:,1], 'o', color = 'C2', markersize=2)\n",
    "ax.set_xlabel('x1')\n",
    "ax.set_ylabel('x2')\n",
    "ax.set_title(\"Real Data\")\n",
    "plt.show()"
   ]
  },
  {
   "cell_type": "markdown",
   "metadata": {},
   "source": [
    "## Multiple Linear Regression on mat_y"
   ]
  },
  {
   "cell_type": "code",
   "execution_count": 26,
   "metadata": {},
   "outputs": [
    {
     "data": {
      "text/plain": [
       "array([[ 0.33339681,  0.33341799,  0.33318519],\n",
       "       [-0.0607427 ,  0.00621277,  0.05452993],\n",
       "       [-0.05984267, -0.00494572,  0.06478839]])"
      ]
     },
     "execution_count": 26,
     "metadata": {},
     "output_type": "execute_result"
    }
   ],
   "source": [
    "mat_beta = np.linalg.solve(np.matmul(np.transpose(mat_x), mat_x), np.matmul(np.transpose(mat_x), mat_y))\n",
    "mat_beta"
   ]
  },
  {
   "cell_type": "markdown",
   "metadata": {},
   "source": [
    "## Classify train data"
   ]
  },
  {
   "cell_type": "code",
   "execution_count": 28,
   "metadata": {},
   "outputs": [
    {
     "data": {
      "text/plain": [
       "array([[ 0.75640364,  0.32526591, -0.08166955],\n",
       "       [ 0.98971493,  0.32911235, -0.31882728],\n",
       "       [ 0.84074327,  0.32386942, -0.16461269],\n",
       "       ...,\n",
       "       [-0.17169737,  0.3428709 ,  0.82882647],\n",
       "       [-0.17059845,  0.32967545,  0.84092301],\n",
       "       [-0.1772267 ,  0.33077515,  0.84645155]])"
      ]
     },
     "execution_count": 28,
     "metadata": {},
     "output_type": "execute_result"
    }
   ],
   "source": [
    "mat_y_hat = np.matmul(mat_x, mat_beta)\n",
    "mat_y_hat"
   ]
  },
  {
   "cell_type": "code",
   "execution_count": 29,
   "metadata": {},
   "outputs": [
    {
     "data": {
      "text/plain": [
       "array([0, 0, 0, 0, 0, 0, 0, 0, 0, 0, 0, 0, 0, 0, 0, 0, 0, 0, 0, 0, 0, 0,\n",
       "       0, 0, 0, 0, 0, 0, 0, 0, 0, 0, 0, 0, 0, 0, 0, 0, 0, 0, 0, 0, 0, 0,\n",
       "       0, 0, 0, 0, 0, 0, 0, 0, 0, 0, 0, 0, 0, 0, 0, 0, 0, 0, 0, 0, 0, 0,\n",
       "       0, 0, 0, 0, 0, 0, 0, 0, 0, 0, 0, 0, 0, 0, 0, 0, 0, 0, 0, 0, 0, 0,\n",
       "       0, 0, 0, 0, 0, 0, 0, 0, 0, 0, 0, 0, 0, 0, 0, 0, 0, 0, 0, 0, 0, 0,\n",
       "       0, 0, 0, 0, 0, 0, 0, 0, 0, 0, 0, 0, 0, 0, 0, 0, 0, 0, 0, 0, 0, 0,\n",
       "       0, 0, 0, 0, 0, 0, 0, 0, 0, 0, 0, 0, 0, 0, 0, 0, 0, 0, 0, 0, 0, 0,\n",
       "       0, 0, 0, 0, 0, 0, 0, 0, 0, 0, 0, 0, 0, 0, 0, 0, 0, 0, 0, 0, 0, 0,\n",
       "       0, 0, 0, 0, 0, 0, 0, 0, 0, 0, 0, 0, 0, 0, 0, 0, 0, 0, 0, 0, 0, 0,\n",
       "       0, 0, 0, 0, 0, 0, 0, 0, 0, 0, 0, 0, 0, 0, 0, 0, 0, 0, 0, 0, 0, 0,\n",
       "       0, 0, 0, 0, 0, 0, 0, 0, 0, 0, 0, 0, 0, 0, 0, 0, 0, 0, 0, 0, 0, 0,\n",
       "       0, 0, 0, 0, 0, 0, 0, 0, 0, 0, 0, 0, 0, 0, 0, 0, 0, 0, 0, 0, 0, 0,\n",
       "       0, 0, 0, 0, 0, 0, 0, 0, 0, 0, 0, 0, 0, 0, 0, 0, 0, 0, 0, 0, 0, 0,\n",
       "       0, 0, 0, 0, 0, 0, 0, 0, 0, 0, 0, 0, 0, 0, 2, 1, 0, 0, 0, 0, 2, 0,\n",
       "       2, 2, 2, 0, 2, 0, 2, 0, 0, 2, 2, 2, 0, 2, 0, 2, 2, 1, 0, 0, 0, 0,\n",
       "       0, 0, 0, 0, 2, 0, 2, 2, 2, 0, 0, 2, 0, 0, 0, 0, 2, 0, 1, 0, 0, 2,\n",
       "       0, 0, 2, 2, 0, 2, 0, 2, 2, 2, 1, 2, 0, 2, 0, 2, 2, 0, 0, 0, 2, 0,\n",
       "       2, 0, 2, 2, 2, 2, 0, 2, 2, 2, 2, 0, 0, 0, 0, 2, 2, 0, 2, 0, 1, 0,\n",
       "       2, 2, 2, 2, 2, 0, 2, 2, 2, 2, 0, 0, 0, 1, 0, 2, 0, 0, 2, 2, 2, 0,\n",
       "       2, 2, 2, 2, 1, 0, 2, 2, 1, 2, 2, 2, 0, 2, 0, 0, 0, 0, 2, 2, 0, 2,\n",
       "       0, 0, 0, 0, 2, 0, 0, 0, 0, 2, 2, 0, 2, 2, 0, 0, 2, 2, 0, 0, 2, 2,\n",
       "       0, 0, 2, 2, 0, 2, 2, 0, 0, 2, 0, 0, 2, 2, 0, 0, 2, 0, 2, 2, 0, 0,\n",
       "       2, 2, 0, 2, 2, 2, 0, 2, 0, 0, 2, 2, 2, 2, 2, 0, 2, 2, 2, 2, 2, 2,\n",
       "       0, 1, 0, 0, 2, 0, 2, 2, 0, 2, 2, 2, 2, 2, 0, 1, 2, 2, 2, 2, 2, 0,\n",
       "       2, 0, 2, 2, 0, 0, 2, 1, 0, 2, 0, 0, 2, 2, 2, 2, 0, 2, 0, 0, 2, 0,\n",
       "       2, 2, 0, 0, 2, 2, 2, 0, 0, 0, 0, 2, 0, 0, 0, 0, 0, 2, 1, 2, 0, 2,\n",
       "       2, 0, 2, 0, 0, 2, 0, 0, 1, 0, 0, 0, 2, 2, 0, 0, 2, 2, 0, 2, 2, 0,\n",
       "       0, 0, 0, 0, 0, 0, 2, 2, 2, 2, 2, 2, 2, 2, 2, 2, 2, 2, 2, 2, 2, 2,\n",
       "       2, 2, 2, 2, 2, 2, 2, 2, 2, 2, 2, 2, 2, 2, 2, 2, 2, 2, 2, 2, 2, 2,\n",
       "       2, 2, 2, 2, 2, 2, 2, 2, 2, 2, 2, 2, 2, 2, 2, 2, 2, 2, 2, 2, 2, 2,\n",
       "       2, 2, 2, 2, 2, 2, 2, 2, 2, 2, 2, 2, 2, 2, 2, 2, 2, 2, 2, 2, 2, 2,\n",
       "       2, 2, 2, 2, 2, 2, 2, 2, 2, 2, 2, 2, 2, 2, 2, 2, 2, 2, 2, 2, 2, 2,\n",
       "       2, 2, 2, 2, 2, 2, 2, 2, 2, 2, 2, 2, 2, 2, 2, 2, 2, 2, 2, 2, 2, 2,\n",
       "       2, 2, 2, 2, 2, 2, 2, 2, 2, 2, 2, 2, 2, 2, 2, 2, 2, 2, 2, 2, 2, 2,\n",
       "       2, 2, 2, 2, 2, 2, 2, 2, 2, 2, 2, 2, 2, 2, 2, 2, 2, 2, 2, 2, 2, 2,\n",
       "       2, 2, 2, 2, 2, 2, 2, 2, 2, 2, 2, 2, 2, 2, 2, 2, 2, 2, 2, 2, 2, 2,\n",
       "       2, 2, 2, 2, 2, 2, 2, 2, 2, 2, 2, 2, 2, 2, 2, 2, 2, 2, 2, 2, 2, 2,\n",
       "       2, 2, 2, 2, 2, 2, 2, 2, 2, 2, 2, 2, 2, 2, 2, 2, 2, 2, 2, 2, 2, 2,\n",
       "       2, 2, 2, 2, 2, 2, 2, 2, 2, 2, 2, 2, 2, 2, 2, 2, 2, 2, 2, 2, 2, 2,\n",
       "       2, 2, 2, 2, 2, 2, 2, 2, 2, 2, 2, 2, 2, 2, 2, 2, 2, 2, 2, 2, 2, 2,\n",
       "       2, 2, 2, 2, 2, 2, 2, 2, 2, 2, 2, 2, 2, 2, 2, 2, 2, 2, 2, 2])"
      ]
     },
     "execution_count": 29,
     "metadata": {},
     "output_type": "execute_result"
    }
   ],
   "source": [
    "idx_classified_y = mat_y_hat.argmax(axis=1)\n",
    "idx_classified_y"
   ]
  },
  {
   "cell_type": "code",
   "execution_count": 30,
   "metadata": {},
   "outputs": [],
   "source": [
    "classified_cluster1 = mat_x0[idx_classified_y == 0]\n",
    "classified_cluster2 = mat_x0[idx_classified_y == 1]\n",
    "classified_cluster3 = mat_x0[idx_classified_y == 2]"
   ]
  },
  {
   "cell_type": "code",
   "execution_count": 32,
   "metadata": {},
   "outputs": [
    {
     "data": {
      "image/png": "[encoded data removed]",
      "text/plain": [
       "<Figure size 360x360 with 1 Axes>"
      ]
     },
     "metadata": {
      "needs_background": "light"
     },
     "output_type": "display_data"
    }
   ],
   "source": [
    "fig2 = plt.figure(1, figsize=(5,5))\n",
    "ax = fig2.add_subplot(1,1,1)\n",
    "ax.plot(classified_cluster1[:,0], classified_cluster1[:,1], 'o', color='C0', markersize=2)\n",
    "ax.plot(classified_cluster2[:,0], classified_cluster2[:,1], 'o', color='C1', markersize=2)\n",
    "ax.plot(classified_cluster3[:,0], classified_cluster3[:,1], 'o', color='C2', markersize=2)\n",
    "ax.set_xlabel('x1')\n",
    "ax.set_ylabel('x2')\n",
    "ax.set_title('Classification using Linear Regression on Indicator Matrix')\n",
    "plt.show()"
   ]
  },
  {
   "cell_type": "markdown",
   "metadata": {},
   "source": [
    "As we can see that cluster 2 is almost completely masked."
   ]
  },
  {
   "cell_type": "markdown",
   "metadata": {},
   "source": [
    "## Look into details of this classification"
   ]
  },
  {
   "cell_type": "markdown",
   "metadata": {},
   "source": [
    "Let's show the linear regression values for each class of y_hat and see who is dominating. <br>\n",
    "First we project the data into the centriods line and make it an 1-d data. (Here we make new data instead.)"
   ]
  },
  {
   "cell_type": "code",
   "execution_count": 41,
   "metadata": {},
   "outputs": [],
   "source": [
    "size = 300\n",
    "cluster1 = np.random.normal(-4, size=(size, 1))\n",
    "cluster2 = np.random.normal(0, size=(size, 1))\n",
    "cluster3 = np.random.normal(4, size=(size, 1))\n",
    "target1, target2, target3 = np.eye(3)\n",
    "mat_x0 = np.concatenate((cluster1, cluster2, cluster3))\n",
    "mat_x = np.hstack((np.ones((size*3, 1)), mat_x0))\n",
    "mat_y = np.vstack((np.tile(target1, (size,1)),\n",
    "                   np.tile(target2, (size,1)),\n",
    "                   np.tile(target3, (size,1))))\n",
    "\n",
    "mat_beta = np.linalg.solve(np.matmul(np.transpose(mat_x), mat_x), np.matmul(np.transpose(mat_x), mat_y))\n",
    "mat_y_hat = np.matmul(mat_x, mat_beta)\n",
    "idx_classified_y = mat_y_hat.argmax(axis=1)"
   ]
  },
  {
   "cell_type": "code",
   "execution_count": 47,
   "metadata": {},
   "outputs": [
    {
     "data": {
      "image/png": "[encoded data removed]",
      "text/plain": [
       "<Figure size 360x360 with 1 Axes>"
      ]
     },
     "metadata": {
      "needs_background": "light"
     },
     "output_type": "display_data"
    }
   ],
   "source": [
    "fig3 = plt.figure(2, figsize=(5, 5))\n",
    "ax = fig3.add_subplot(1, 1, 1)\n",
    "ax.plot(mat_x0, mat_y_hat[:, 0], 'o', color='C0', markersize=2)\n",
    "ax.plot(mat_x0, mat_y_hat[:, 1], 'o', color='C1', markersize=2)\n",
    "ax.plot(mat_x0, mat_y_hat[:, 2], 'o', color='C2', markersize=2)\n",
    "y_floor, _ = ax.get_ylim()\n",
    "ax.plot(cluster1, [y_floor]*size, 'o', color='C0', markersize=2)\n",
    "ax.plot(cluster2, [y_floor]*size, 'o', color='C1', markersize=2)\n",
    "ax.plot(cluster3, [y_floor]*size, 'o', color='C2', markersize=2)\n",
    "ax.set_title('Degree = 1')\n",
    "plt.show()"
   ]
  },
  {
   "cell_type": "markdown",
   "metadata": {},
   "source": [
    "As we can see, the second (orange) class is almost never dominating. "
   ]
  },
  {
   "cell_type": "markdown",
   "metadata": {},
   "source": [
    "### If we do a 2-D linear regression, bringing in x-square"
   ]
  },
  {
   "cell_type": "code",
   "execution_count": 48,
   "metadata": {},
   "outputs": [],
   "source": [
    "mat_x2 = np.hstack((mat_x, mat_x0*mat_x0))\n",
    "mat_beta2 = np.linalg.solve(np.matmul(np.transpose(mat_x2), mat_x2), np.matmul(np.transpose(mat_x2), mat_y))\n",
    "mat_y2_hat = np.matmul(mat_x2, mat_beta2)"
   ]
  },
  {
   "cell_type": "code",
   "execution_count": 49,
   "metadata": {},
   "outputs": [
    {
     "data": {
      "image/png": "[encoded data removed]",
      "text/plain": [
       "<Figure size 360x360 with 1 Axes>"
      ]
     },
     "metadata": {
      "needs_background": "light"
     },
     "output_type": "display_data"
    }
   ],
   "source": [
    "fig4 = plt.figure(3, figsize=(5, 5))\n",
    "ax = fig4.add_subplot(1, 1, 1)\n",
    "ax.plot(mat_x0, mat_y2_hat[:, 0], 'o', color='C0', markersize=2)\n",
    "ax.plot(mat_x0, mat_y2_hat[:, 1], 'o', color='C1', markersize=2)\n",
    "ax.plot(mat_x0, mat_y2_hat[:, 2], 'o', color='C2', markersize=2)\n",
    "y_floor, _ = ax.get_ylim()\n",
    "ax.plot(cluster1, [y_floor]*size, 'o', color='C0', markersize=2)\n",
    "ax.plot(cluster2, [y_floor]*size, 'o', color='C1', markersize=2)\n",
    "ax.plot(cluster3, [y_floor]*size, 'o', color='C2', markersize=2)\n",
    "ax.set_title('Degree = 2')\n",
    "plt.show()"
   ]
  },
  {
   "cell_type": "markdown",
   "metadata": {},
   "source": [
    "For this simple example a quadratic rather than linear fit would solve the problem. However, if there were 4 classes, a quadratic would not come down fast enough, and a cubic would be needed as well. A loose but general rule is that if $K\\ge 3$ classes are lined up, polynomial terms up to degree $K-1$ might be needed to resolve them.\n",
    "\n",
    "Note also that these are polynomials along the derived direction passing through the centroids, which can have orbitrary orientation. So in $p$-dimensional input space, one would need general polynomial terms and cross-products of total degree $K-1$, $O(p^{K-1})$ terms in all, to resolve such worst-case scenarios.\n",
    "\n",
    "The example is extreme, but for large $K$ and small $p$ such maskings natrually occur."
   ]
  },
  {
   "cell_type": "code",
   "execution_count": null,
   "metadata": {},
   "outputs": [],
   "source": []
  }
 ],
 "metadata": {
  "kernelspec": {
   "display_name": "Python 3",
   "language": "python",
   "name": "python3"
  },
  "language_info": {
   "codemirror_mode": {
    "name": "ipython",
    "version": 3
   },
   "file_extension": ".py",
   "mimetype": "text/x-python",
   "name": "python",
   "nbconvert_exporter": "python",
   "pygments_lexer": "ipython3",
   "version": "3.7.6"
  }
 },
 "nbformat": 4,
 "nbformat_minor": 4
}
