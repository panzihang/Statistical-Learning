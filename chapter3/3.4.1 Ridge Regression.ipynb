{
 "cells": [
  {
   "cell_type": "markdown",
   "metadata": {},
   "source": [
    "# 3.4.1 Ridge Regression"
   ]
  },
  {
   "cell_type": "markdown",
   "metadata": {},
   "source": [
    "Ridge regression shrinks the regression coefficients by imposing a penalty on their size. The ridge coefficients minimize a penalized residual sum of squares,\n",
    "\n",
    "$$\n",
    "\\hat\\beta^{\\text{ridge}} = {\\arg\\min}_{\\beta}\\left\\lbrace \\sum_{i=1}^N\\left( y_i - \\beta_0 - \\sum_{j=1}^p x_{ij}\\beta_j \\right)^2 +\\lambda\\sum_{j=1}^p \\beta_j^2 \\right\\rbrace,\n",
    "$$"
   ]
  },
  {
   "cell_type": "markdown",
   "metadata": {},
   "source": [
    "An equivalent way to write the ridge problem is to make explicit the size constraint on the parameters, as\n",
    "\n",
    "$$\n",
    "\\hat\\beta^{\\text{ridge}} = {\\arg\\min}_\\beta \\sum_{i=1}^N \\left( y_i - \\beta_0 - \\sum_{j=1}^p x_{ij}\\beta_j \\right)^2 \\text{     subject to } \\sum_{j=1}^p \\beta_j^2 \\le t,\n",
    "$$"
   ]
  },
  {
   "cell_type": "markdown",
   "metadata": {},
   "source": [
    "## Scaling\n",
    "The ridge solutions are not equivariant under scaling of the inputs, and so one normally standardizes the inputs before solving."
   ]
  },
  {
   "cell_type": "markdown",
   "metadata": {},
   "source": [
    "## Centering\n",
    "Notice that the intercept $\\beta_0$ has been left out of the penalty term. Penalization of the intercept would make the procedure depend on the origin chosen for $Y$; i.e., adding a constant $c$ to each of the targets $y_i$ (i.e. simply shifting) would not simply result in a shift of the predictions by the same constant $c$. <br>\n",
    "It can be shown that the ridge solution can be separated into two parts, after reparametrization using centered inputs: Each $x_{ij}$ gets replaced by $x_{ij}-\\bar{x}_j$.\n",
    "\n",
    "1. We estimate $\\beta_0$ by the mean response $\\bar{y} = \\frac{1}{N}\\sum_1^N y_i$.\n",
    "2. The remaining coefficients get estimated by a ridge regression without intercept, using centered $x_{ij}$. <br>\n",
    "\n",
    "Henceforth we assume that this centering has been done, so that the input matrix $\\mathbf{X}$ has $p$ columns rather than $p+1$."
   ]
  },
  {
   "cell_type": "markdown",
   "metadata": {},
   "source": [
    "## Matrix\n",
    "$$\n",
    "\\text{RSS}(\\lambda) = (\\mathbf{y}-\\mathbf{X}\\beta)^T(\\mathbf{y}-\\mathbf{X}\\beta) + \\lambda\\beta^T\\beta\n",
    "$$\n",
    "The ridge regression solutions are easily seen to be\n",
    "\n",
    "$$\n",
    "\\hat\\beta^{\\text{ridge}} = \\left( \\mathbf{X}^T\\mathbf{X} + \\lambda\\mathbf{I} \\right)^{-1}\\mathbf{X}^T\\mathbf{y},\n",
    "$$\n",
    "where $\\mathbf{I}$ is the $p\\times p$ identity matrix. Notice that the ridge solution is again a linear function of $\\mathbf{y}$ by the choice of quadratic penalty $\\beta^T\\beta$, resulting in addition of a positive constant to the diagonal of $\\mathbf{X}^T\\mathbf{X}$ before inversion. This makes the problem nonsingular, even if $\\mathbf{X}^T\\mathbf{X}$ is not of full rank. It was actually the main motivation for ridge regression when it was first introduced in statistics (Hoerl and Kennard, 1970)."
   ]
  },
  {
   "cell_type": "markdown",
   "metadata": {},
   "source": [
    "## From the Bayesian point of view\n",
    "Ridge regression can also be derived as the mean or mode of a posterior distribution, with a suitably chosen prior distribution.\n",
    "\n",
    "Suppose\n",
    "\n",
    "$$\\begin{align}\n",
    "y_i \\sim N(\\beta_0+x_i^T\\beta, \\sigma^2) \\\\\n",
    "\\beta_j \\sim \\text{ i.i.d. }N(0, \\tau^2)\n",
    "\\end{align}$$\n",
    "Then the log-posterior density of $\\beta$, with $\\tau^2$ and $\\sigma^2$ assumed known, is equal to the expression\n",
    "\n",
    "$$\n",
    "\\sum_{i=1}^N\\left( y_i - \\beta_0 - \\sum_{j=1}^p x_{ij}\\beta_j \\right)^2 +\\frac{\\sigma^2}{\\tau^2}\\sum_{j=1}^p \\beta_j^2,\n",
    "$$\n",
    "which is the penalized residual sum of squares with $\\lambda = \\sigma^2/\\tau^2$. Thus the ridge estimate is the mode of the posterior distribution; since the distribution is Gaussian, it is also the posterior mean. <br>\n",
    "\n",
    "The variance/randomness brought by distributions are explained with ridge regression - which is actually named after the distribution density ridge."
   ]
  },
  {
   "cell_type": "markdown",
   "metadata": {},
   "source": [
    "## The singular value decomposition (SVD)\n",
    "The SVD of the centered input matrix $\\mathbf{X}$ gives us some additional insight into the nature of ridge regression. The SVD of the $N\\times p$ matrix $\\mathbf{X}$ has the form\n",
    "\n",
    "$$\n",
    "\\mathbf{X} = \\mathbf{UDV}^T,\n",
    "$$\n",
    "where\n",
    "\n",
    "1. $\\mathbf{U}$ is $N\\times p$ orthogonal matrix, with the columns of $\\mathbf{U}$ spanning the $\\text{col}(\\mathbf{X})$\n",
    "2. $\\mathbf{V}$ is $p\\times p$ orthogonal matrix, with the columns of $\\mathbf{V}$ spanning the $\\text{row}(\\mathbf{X})$\n",
    "3. $\\mathbf{D}$ is a $p\\times p$ diagonal matrix, with diagonal entries\n",
    "$d_1 \\ge d_2 \\ge \\cdots \\ge d_p \\ge 0$ called the singular values of $\\mathbf{X}$.\n",
    "4. If one or more values $d_j = 0$, $\\mathbf{X}$ is singular."
   ]
  },
  {
   "cell_type": "markdown",
   "metadata": {},
   "source": [
    "Using the SVD we can write the least squares fitted vector as\n",
    "\n",
    "$$\\begin{align}\n",
    "\\mathbf{X}\\hat\\beta^{\\text{ls}} = \\mathbf{X}(\\mathbf{X}^T\\mathbf{X})^{-1}\\mathbf{X}^T\\mathbf{y} \\\\\n",
    "= \\mathbf{UU}^T\\mathbf{y}.\n",
    "\\end{align}$$\n",
    "Note\n",
    "\n",
    "1. $\\mathbf{U}^T\\mathbf{y}$ are the coordinates of $\\mathbf{y}$ w.r.t. the orthonormal basis $\\mathbf{U}$.\n",
    "2. the similarity with QR decomposition; $\\mathbf{Q}$ and $\\mathbf{U}$ are generally different orthogonal bases for $\\text{col}(\\mathbf{X})$."
   ]
  },
  {
   "cell_type": "markdown",
   "metadata": {},
   "source": [
    "**For ridge regression:** <br>\n",
    "\n",
    "$$\\begin{align}\n",
    "\\mathbf{X}\\hat\\beta^{\\text{ridge}} = \\mathbf{X}(\\mathbf{X}^T\\mathbf{X} + \\lambda\\mathbf{I})^{-1}\\mathbf{X}^T\\mathbf{y} \\\\\n",
    "= \\mathbf{UD}(\\mathbf{D}^2 + \\lambda\\mathbf{I})^{-1}\\mathbf{DU}^T\\mathbf{y} \\\\\n",
    "= \\sum_{j=1}^p \\mathbf{u}_j \\frac{d_j^2}{d_j^2+\\lambda}\\mathbf{u}_j^T\\mathbf{y},\n",
    "\\end{align}$$\n",
    "where the $\\mathbf{u}_j$ are the columns of $\\mathbf{U}$. The ridge solution then shrinks these coordinates by the factors $d_j^2/(d_j^2+\\lambda)$. This means that a greater amount of shrinkage is applied to the coordinates of basis vectors with smaller $d_j^2$. "
   ]
  },
  {
   "cell_type": "markdown",
   "metadata": {},
   "source": [
    "**To explain: use PCA:** <br>\n",
    "The SVD of the centered matrix $\\mathbf{X}$ is another way of expressing the principal components of the variables in $\\mathbf{X}$. The sample covariance matrix is given by\n",
    "\n",
    "$$\n",
    "\\mathbf{S} = \\frac{1}{N}\\mathbf{X}^T\\mathbf{X},\n",
    "$$\n",
    "and via the SVD,\n",
    "\n",
    "$$\n",
    "\\mathbf{X}^T\\mathbf{X} = \\mathbf{VD}^2\\mathbf{V}^T,\n",
    "$$\n",
    "which is the eigen decomposition of $\\mathbf{X}^T\\mathbf{X}$ (and of $\\mathbf{S}$, up to a factor $N$). The eigenvectors $v_j$ (columns of $\\mathbf{V}$) are also called the principal components (or Karhunen-Loeve) directions of $\\mathbf{X}$. The first principal component direction $v_1$ has the property that $\\mathbf{z}_1 = \\mathbf{X}v_1$ has the larger sample projected variance than any other direction. This sample variance is easily seen to be\n",
    "\n",
    "$$\n",
    "\\text{Var}(\\mathbf{z}_1) = \\text{Var}(\\mathbf{X}v_1) = \\frac{d_1^2}{N},\n",
    "$$\n",
    "\n",
    "and in fact $\\mathbf{z}_1 = \\mathbf{X}v_1 = \\mathbf{u}_1 d_1$. The derived variable $z_1$ is called the first principal component of $\\mathbf{X}$, and hence $\\mathbf{u}_1$ is the normalized first principal component. And subsequent principal components $z_j$ have maximum variance $d_j^2/N$, subject to being orthogonal to the earlier ones."
   ]
  },
  {
   "cell_type": "markdown",
   "metadata": {},
   "source": [
    "Hence the small singular values $d_j$ correspond to directions in the $\\text{col}(\\mathbf{X})$ having small variance, and ridge regression shrinks these directions the most. In simple words, it does not care what seems not worth. Recall that \"The ridge solution then shrinks these coordinates by the factors $d_j^2/(d_j^2+\\lambda)$\"."
   ]
  },
  {
   "cell_type": "markdown",
   "metadata": {},
   "source": [
    "## Effective degrees of freedom"
   ]
  },
  {
   "cell_type": "markdown",
   "metadata": {},
   "source": [
    "$$\\begin{align}\n",
    "\\text{df}(\\lambda) = \\text{tr}\\left( \\mathbf{X}(\\mathbf{X}^T\\mathbf{X} + \\lambda\\mathbf{I})^{-1}\\mathbf{X}^T \\right), \\\\\n",
    "= \\text{tr}(\\mathbf{H}_\\lambda) \\\\\n",
    "= \\sum_{j=1}^p \\frac{d_j^2}{d_j^2+\\lambda}.\n",
    "\\end{align}$$\n",
    "<br>\n",
    "This monotone decreasing function of $\\lambda$ is the effective degrees of freedom of the ridge regression fit. Usually in a linear-regression fit, the degrees-of-freedom of the fit is $p$, the number of free parameters. The idea is that although all $p$ coefficients in a ridge fit will be non-zero, they are fit in a restricted fashion controlled by $\\lambda$. Note that\n",
    "\n",
    "$$\\begin{align}\n",
    "\\text{df}(\\lambda) = p \\text{ when }\\lambda = 0, \\\\\n",
    "\\text{df}(\\lambda) \\rightarrow 0 \\text{ as }\\lambda \\rightarrow \\infty.\n",
    "\\end{align}$$\n",
    "<br>\n",
    "Can understand as that the degree counters are shrinked by the rigde regression, each from 1 to $\\frac{d_j^2}{d_j^2+\\lambda}$"
   ]
  },
  {
   "cell_type": "markdown",
   "metadata": {},
   "source": [
    "# Coefficients ~ Degree of Freedom"
   ]
  },
  {
   "cell_type": "code",
   "execution_count": 1,
   "metadata": {},
   "outputs": [],
   "source": [
    "import numpy as np\n",
    "import pandas as pd"
   ]
  },
  {
   "cell_type": "code",
   "execution_count": 2,
   "metadata": {},
   "outputs": [],
   "source": [
    "data = pd.read_csv(\"~/Statistical-Learning/data/prostate_cancer.csv\")\n",
    "data = data.drop('Unnamed: 0', axis = 1)"
   ]
  },
  {
   "cell_type": "code",
   "execution_count": 3,
   "metadata": {},
   "outputs": [
    {
     "data": {
      "text/plain": [
       "(67, 8)"
      ]
     },
     "execution_count": 3,
     "metadata": {},
     "output_type": "execute_result"
    }
   ],
   "source": [
    "data_x = data.drop(['lpsa','train'], axis=1)\n",
    "data_x_normalized = (data_x - data_x.mean())/data_x.std()\n",
    "x_train = data_x_normalized[data.train=='T']\n",
    "y_train = data[data.train=='T'].lpsa\n",
    "x_train.shape"
   ]
  },
  {
   "cell_type": "markdown",
   "metadata": {},
   "source": [
    "Recall that the ridge regression solutions are\n",
    "\n",
    "$$\n",
    "\\hat\\beta^{\\text{ridge}} = \\left( \\mathbf{X}^T\\mathbf{X} + \\lambda\\mathbf{I} \\right)^{-1}\\mathbf{X}^T\\mathbf{y},\n",
    "$$\n",
    "\n",
    "<br>\n",
    "And, no interception term is needed for ridge regression because we centered it and estimate $\\beta_0$ by the mean response $\\bar{y} = \\frac{1}{N}\\sum_1^N y_i$."
   ]
  },
  {
   "cell_type": "code",
   "execution_count": 40,
   "metadata": {},
   "outputs": [],
   "source": [
    "def ridge(l, x_train, y_train):\n",
    "    mat_x = x_train.values\n",
    "#     mat_x = np.hstack((np.ones((len(x_train.values), 1)), x_train.values))\n",
    "    mat_xt = np.transpose(mat_x)\n",
    "    beta0 = np.mean(y_train)\n",
    "    vec_y = y_train-beta0\n",
    "    i = np.identity((mat_x.shape[1]))\n",
    "    beta = np.matmul(np.linalg.inv(np.matmul(mat_xt, mat_x)+l*i), np.matmul(mat_xt, vec_y.values))\n",
    "    beta = np.append(np.array([beta0]), beta)\n",
    "    df = np.matrix.trace(np.matmul(mat_x, np.matmul(np.linalg.inv(np.matmul(mat_xt, mat_x)+l*i), mat_xt)))\n",
    "    return beta, df"
   ]
  },
  {
   "cell_type": "code",
   "execution_count": 41,
   "metadata": {},
   "outputs": [
    {
     "name": "stdout",
     "output_type": "stream",
     "text": [
      "[ 2.45234509  0.67912148  0.26265894 -0.1393084   0.20963901  0.30568635\n",
      " -0.29004888 -0.02432796  0.27027469]\n",
      "[ 2.46493292  0.67952814  0.26305307 -0.14146483  0.21014656  0.3052006\n",
      " -0.28849277 -0.02130504  0.26695576]\n"
     ]
    }
   ],
   "source": [
    "# Check if no ridge lambda=0\n",
    "no_ridge_beta, df = ridge(0, x_train, y_train)\n",
    "# original OLS:\n",
    "mat_x = np.hstack((np.ones((len(x_train.values), 1)), x_train.values))\n",
    "mat_xt = np.transpose(mat_x)\n",
    "# Solve (X^T*X)b = X^T*y for b\n",
    "ols_beta = np.linalg.solve(np.matmul(mat_xt, mat_x), np.matmul(mat_xt, y_train.values))\n",
    "print(no_ridge_beta)\n",
    "print(ols_beta)"
   ]
  },
  {
   "cell_type": "code",
   "execution_count": 26,
   "metadata": {},
   "outputs": [
    {
     "data": {
      "text/plain": [
       "9.000000000000002"
      ]
     },
     "execution_count": 26,
     "metadata": {},
     "output_type": "execute_result"
    }
   ],
   "source": [
    "df"
   ]
  },
  {
   "cell_type": "code",
   "execution_count": 28,
   "metadata": {},
   "outputs": [
    {
     "data": {
      "text/plain": [
       "2.4523450850746276"
      ]
     },
     "execution_count": 28,
     "metadata": {},
     "output_type": "execute_result"
    }
   ],
   "source": [
    "np.mean(y_train)"
   ]
  },
  {
   "cell_type": "code",
   "execution_count": 83,
   "metadata": {},
   "outputs": [],
   "source": [
    "# Prepare\n",
    "n=10000\n",
    "df_list = np.zeros(n)\n",
    "beta_dict = {}\n",
    "for i in range(9):\n",
    "    beta_dict[i] = np.zeros(n)\n",
    "    \n",
    "# Compute\n",
    "for l in range(n):\n",
    "    beta, df = ridge(l, x_train, y_train)\n",
    "    df_list[l] = df\n",
    "    for i in range(len(beta)):\n",
    "        beta_dict[i][l] = beta[i]"
   ]
  },
  {
   "cell_type": "code",
   "execution_count": 84,
   "metadata": {},
   "outputs": [
    {
     "data": {
      "text/plain": [
       "array([2.45234509, 2.45234509, 2.45234509, ..., 2.45234509, 2.45234509,\n",
       "       2.45234509])"
      ]
     },
     "execution_count": 84,
     "metadata": {},
     "output_type": "execute_result"
    }
   ],
   "source": [
    "beta_dict.pop(0)"
   ]
  },
  {
   "cell_type": "code",
   "execution_count": 85,
   "metadata": {},
   "outputs": [
    {
     "data": {
      "text/plain": [
       "(10000,)"
      ]
     },
     "execution_count": 85,
     "metadata": {},
     "output_type": "execute_result"
    }
   ],
   "source": [
    "df_list.shape"
   ]
  },
  {
   "cell_type": "code",
   "execution_count": 86,
   "metadata": {},
   "outputs": [
    {
     "data": {
      "text/plain": [
       "(10000, 8)"
      ]
     },
     "execution_count": 86,
     "metadata": {},
     "output_type": "execute_result"
    }
   ],
   "source": [
    "beta_arrays = np.array([array for array in beta_dict.values()])\n",
    "np.transpose(beta_arrays).shape"
   ]
  },
  {
   "cell_type": "code",
   "execution_count": 87,
   "metadata": {},
   "outputs": [],
   "source": [
    "import matplotlib.pyplot as plt"
   ]
  },
  {
   "cell_type": "code",
   "execution_count": 88,
   "metadata": {},
   "outputs": [
    {
     "data": {
      "image/png": "[encoded data removed]",
      "text/plain": [
       "<Figure size 720x720 with 1 Axes>"
      ]
     },
     "metadata": {
      "needs_background": "light"
     },
     "output_type": "display_data"
    }
   ],
   "source": [
    "fig1 = plt.figure(figsize=(10,10))\n",
    "fig1.clear()\n",
    "ax = fig1.add_subplot(1,1,1)\n",
    "\n",
    "# for i in range(8):\n",
    "#     ax.plot(df_list, beta_dict[i+1], '-', color='blue', linewidth=0.3)\n",
    "\n",
    "ax.plot(df_list, np.transpose(beta_arrays), 'o-', markersize=2, linewidth=0.7)\n",
    "    \n",
    "ax.legend(data_x.columns)\n",
    "plt.show()"
   ]
  },
  {
   "cell_type": "markdown",
   "metadata": {},
   "source": [
    "# Cross Validation to choose lambda"
   ]
  },
  {
   "cell_type": "code",
   "execution_count": 113,
   "metadata": {},
   "outputs": [],
   "source": [
    "def ridge_n_fold_cv(n, x_train, y_train, l):\n",
    "    cv_rss = []\n",
    "    cv_df = 0\n",
    "    m_rows = x_train.shape[0]\n",
    "    for i in range(0, m_rows-int(m_rows/n), int(m_rows/n)):\n",
    "#         print(i)\n",
    "        x_cv_val = x_train.iloc[i:i+int(m_rows/n), :]\n",
    "        x_cv_train = x_train.iloc[:i,:].append(x_train.iloc[i+int(m_rows/n):,:])\n",
    "        y_cv_val = y_train.iloc[i:i+int(m_rows/n)]\n",
    "        y_cv_train = y_train.iloc[:i].append(y_train.iloc[i+int(m_rows/n):])\n",
    "#         print(\"val vs train:\", (len(y_cv_val), len(y_cv_train)))\n",
    "        ridge_beta, df = ridge(l, x_train, y_train)\n",
    "        mat_x_val = np.hstack((np.ones((len(x_cv_val.values), 1)), x_cv_val.values))\n",
    "#         y_cv_train_ols = np.matmul(mat_x, ols_beta)\n",
    "#         print(y_cv_train_ols)\n",
    "        y_cv_val_ols = np.matmul(mat_x_val, ridge_beta)\n",
    "#         print(y_cv_val_ols)\n",
    "        rss = sum((y_cv_val_ols - y_cv_val)**2)/len(y_cv_val)\n",
    "#         print(rss)\n",
    "        cv_rss.append(rss)\n",
    "        cv_df = df\n",
    "    return cv_rss, cv_df"
   ]
  },
  {
   "cell_type": "code",
   "execution_count": 121,
   "metadata": {},
   "outputs": [],
   "source": [
    "def lambdas_from_edf(singular_squared:np.ndarray, interval:int) ->np.ndarray:\n",
    "    \"\"\"Given squared singular values of data matrix, calculate the lambdas\n",
    "    with `interval` parameter to split unit intervals s.t. the resulting\n",
    "    effective degrees of freedom are equidistant with 1/interval, via the\n",
    "    Newton-Raphson method. e.g., if interval = 10, it produces lambdas for\n",
    "    0, 0.5, 0.6, 0.7, ...\"\"\"\n",
    "    p = singular_squared.size\n",
    "    edfs = np.linspace(.5, p-.5, (p-1)*interval+1)\n",
    "    threshold = 1e-3\n",
    "    lambdas = []\n",
    "    for edf in edfs:\n",
    "        # Newton-Raphson\n",
    "        lambda0 = (p-edf)/edf\n",
    "        lambda1 = 1e6\n",
    "        diff = lambda1 - lambda0\n",
    "        while diff > threshold:\n",
    "            num = (singular_squared/(singular_squared+lambda0)).sum()-edf\n",
    "            denom = (singular_squared/((singular_squared+lambda0)**2)).sum()\n",
    "            lambda1 = lambda0 + num/denom\n",
    "            diff = lambda1 - lambda0\n",
    "            lambda0 = lambda1\n",
    "        lambdas.append(lambda1)\n",
    "    lambdas.append(0)\n",
    "    edfs = np.concatenate(([0], edfs, [p]))\n",
    "    return edfs, np.array(lambdas)"
   ]
  },
  {
   "cell_type": "code",
   "execution_count": 123,
   "metadata": {},
   "outputs": [],
   "source": [
    "import collections\n",
    "import math\n",
    "\n",
    "u, s, vh = np.linalg.svd(x_train, full_matrices=False)\n",
    "s2 = s**2\n",
    "edfs, lambdas = lambdas_from_edf(s2, 2)\n",
    "\n"
   ]
  },
  {
   "cell_type": "code",
   "execution_count": 124,
   "metadata": {},
   "outputs": [
    {
     "data": {
      "text/plain": [
       "array([0. , 0.5, 1. , 1.5, 2. , 2.5, 3. , 3.5, 4. , 4.5, 5. , 5.5, 6. ,\n",
       "       6.5, 7. , 7.5, 8. ])"
      ]
     },
     "execution_count": 124,
     "metadata": {},
     "output_type": "execute_result"
    }
   ],
   "source": [
    "edfs"
   ]
  },
  {
   "cell_type": "code",
   "execution_count": 132,
   "metadata": {},
   "outputs": [
    {
     "data": {
      "text/plain": [
       "array([984.73776979, 431.60222026, 251.33690478, 164.02428406,\n",
       "       113.65356902,  81.55395221,  59.73465692,  44.21483859,\n",
       "        32.79729534,  24.17643116,  17.53204767,  12.32591763,\n",
       "         8.19214043,   4.87449052,   2.18888322,   0.        ])"
      ]
     },
     "execution_count": 132,
     "metadata": {},
     "output_type": "execute_result"
    }
   ],
   "source": [
    "lambdas"
   ]
  },
  {
   "cell_type": "code",
   "execution_count": 133,
   "metadata": {},
   "outputs": [],
   "source": [
    "cv_result_dict = {}\n",
    "df_list = []\n",
    "for i in range(len(lambdas)): \n",
    "    cv_mean_list = np.zeros(len(lambdas))\n",
    "    cv_std_list = np.zeros(len(lambdas))\n",
    "\n",
    "    cv_rss, cv_df = ridge_n_fold_cv(10, x_train, y_train, lambdas[i])\n",
    "    cv_mean = np.mean(cv_rss)\n",
    "    cv_std = np.std(cv_rss)\n",
    "    cv_mean_list[i]=cv_mean\n",
    "    cv_std_list[i]=cv_std\n",
    "    \n",
    "    df_list.append(cv_df)\n",
    "    cv_result_dict[i] = [cv_mean, cv_std]"
   ]
  },
  {
   "cell_type": "code",
   "execution_count": 134,
   "metadata": {},
   "outputs": [
    {
     "data": {
      "text/plain": [
       "[0.4999999999999998,\n",
       " 1.0000000000000016,\n",
       " 1.4999999999999993,\n",
       " 2.0000000000000298,\n",
       " 2.4999999999999996,\n",
       " 3.000000000055311,\n",
       " 3.500000000000378,\n",
       " 4.000000000000003,\n",
       " 4.5,\n",
       " 5.000000000049559,\n",
       " 5.500000000000434,\n",
       " 6.0000000000000036,\n",
       " 6.5000000013097825,\n",
       " 7.000000000003947,\n",
       " 7.500000000000002,\n",
       " 8.000000000000002]"
      ]
     },
     "execution_count": 134,
     "metadata": {},
     "output_type": "execute_result"
    }
   ],
   "source": [
    "df_list"
   ]
  },
  {
   "cell_type": "code",
   "execution_count": 135,
   "metadata": {},
   "outputs": [
    {
     "data": {
      "text/plain": [
       "{0: [1.067793589836454, 1.3870848135576426],\n",
       " 1: [0.8907879423961245, 1.125693145824819],\n",
       " 2: [0.7667259743012003, 0.9183241734649374],\n",
       " 3: [0.6789814927790788, 0.7542413428344481],\n",
       " 4: [0.615856976231167, 0.6246019241864744],\n",
       " 5: [0.5694024003112536, 0.5224618785604451],\n",
       " 6: [0.5343191968536355, 0.44252372547397684],\n",
       " 7: [0.5071132831241655, 0.3807771344508271],\n",
       " 8: [0.4855036009765941, 0.3341319070027609],\n",
       " 9: [0.4680319853206952, 0.30010054619074716],\n",
       " 10: [0.4538134341554756, 0.27656821543796906],\n",
       " 11: [0.4423784322301854, 0.26167421587650086],\n",
       " 12: [0.4335739338025467, 0.2537993377765956],\n",
       " 13: [0.42750133612360325, 0.25161545273715197],\n",
       " 14: [0.42447761814349066, 0.2541405470922236],\n",
       " 15: [0.4250105794116788, 0.2607653521275454]}"
      ]
     },
     "execution_count": 135,
     "metadata": {},
     "output_type": "execute_result"
    }
   ],
   "source": [
    "cv_result_dict"
   ]
  },
  {
   "cell_type": "code",
   "execution_count": 136,
   "metadata": {},
   "outputs": [],
   "source": [
    "cv_mean_result = np.array([x[0] for x in list(cv_result_dict.values())])\n",
    "cv_std_result = np.array([x[1] for x in list(cv_result_dict.values())])\n",
    "cv_ste_result = cv_std_result/np.sqrt(10)"
   ]
  },
  {
   "cell_type": "code",
   "execution_count": 137,
   "metadata": {},
   "outputs": [],
   "source": [
    "cv_upper = cv_mean_result+cv_ste_result\n",
    "cv_lower = cv_mean_result-cv_ste_result"
   ]
  },
  {
   "cell_type": "code",
   "execution_count": 144,
   "metadata": {},
   "outputs": [
    {
     "data": {
      "image/png": "[encoded data removed]",
      "text/plain": [
       "<Figure size 720x720 with 1 Axes>"
      ]
     },
     "metadata": {
      "needs_background": "light"
     },
     "output_type": "display_data"
    }
   ],
   "source": [
    "fig3 = plt.figure(figsize=(10,10))\n",
    "fig3.clear()\n",
    "ax = fig3.add_subplot(1,1,1)\n",
    "ax.plot(df_list, cv_mean_result, 'o-', color='red')\n",
    "for k in range(len(df_list)):\n",
    "    ax.plot([df_list[k],df_list[k]], [cv_upper[k], cv_lower[k]], '.-', color='gray', linewidth=1)\n",
    "# ax.plot([0,8], [one_standard_error_bound,one_standard_error_bound], '--', color='blue', alpha=0.3)\n",
    "ax.set_xlabel(\"df\")\n",
    "ax.set_ylabel(\"CV Error\")\n",
    "plt.show()"
   ]
  },
  {
   "cell_type": "code",
   "execution_count": null,
   "metadata": {},
   "outputs": [],
   "source": []
  }
 ],
 "metadata": {
  "kernelspec": {
   "display_name": "Python 3",
   "language": "python",
   "name": "python3"
  },
  "language_info": {
   "codemirror_mode": {
    "name": "ipython",
    "version": 3
   },
   "file_extension": ".py",
   "mimetype": "text/x-python",
   "name": "python",
   "nbconvert_exporter": "python",
   "pygments_lexer": "ipython3",
   "version": "3.7.6"
  }
 },
 "nbformat": 4,
 "nbformat_minor": 4
}
