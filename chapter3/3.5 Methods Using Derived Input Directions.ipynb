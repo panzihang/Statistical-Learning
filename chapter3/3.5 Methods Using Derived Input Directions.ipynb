{
 "cells": [
  {
   "cell_type": "markdown",
   "metadata": {},
   "source": [
    "# 1. Principal Components Regression"
   ]
  },
  {
   "cell_type": "markdown",
   "metadata": {},
   "source": [
    "The linear combinations $Z_m$ used in principal component regression (PCR) are the principal components as defined in $\\S$ 3.4.1.\n",
    "\n",
    "PCR forms the derived input columns\n",
    "\n",
    "$$\n",
    "\\mathbf{z}_m = \\mathbf{X} v_m,\n",
    "$$\n",
    "and then regress $\\mathbf{y}$ on $\\mathbf{z}_1,\\mathbf{z}_2,\\cdots,\\mathbf{z}_M$ for some $M\\le p$. Since the $\\mathbf{z}_m$ are orthogonal, this regression is just a sum of univariate regressions:\n",
    "\n",
    "$$\n",
    "\\hat{\\mathbf{y}}_{(M)}^{\\text{pcr}} = \\bar{y}\\mathbf{1} + \\sum_{m=1}^M \\hat\\theta_m \\mathbf{z}_m = \\bar{y}\\mathbf{1} + \\mathbf{X}\\mathbf{V}_M\\hat{\\mathbf{\\theta}},\n",
    "$$\n",
    "where $\\hat\\theta_m = \\langle\\mathbf{z}_m,\\mathbf{y}\\rangle \\big/ \\langle\\mathbf{z}_m,\\mathbf{z}_m\\rangle$. We can see from the last equality that, since the $\\mathbf{z}_m$ are each linear combinations of the original $\\mathbf{x}_j$, we can express the solution in terms of coefficients of the $\\mathbf{x}_j$.\n",
    "\n",
    "$$\n",
    "\\hat\\beta^{\\text{pcr}}(M) = \\sum_{m=1}^M \\hat\\theta_m v_m.\n",
    "$$\n",
    "As with ridge regression, PCR depends on the scaling of the inputs, so typically we first standardized them."
   ]
  },
  {
   "cell_type": "markdown",
   "metadata": {},
   "source": [
    "## Compare with Ridge:"
   ]
  },
  {
   "cell_type": "markdown",
   "metadata": {},
   "source": [
    "If $M=p$, since the columns of $\\mathbf{Z} = \\mathbf{UD}$ span the $\\text{col}(\\mathbf{X})$,\n",
    "\n",
    "$$\n",
    "\\hat\\beta^{\\text{pcr}}(p) = \\hat\\beta^{\\text{ls}}.\n",
    "$$\n",
    "For $M < p$ we get a reduced regression and we see that PCR is very similar to ridge regression: both operate via the principal components of the input matrix.\n",
    "\n",
    "- Ridge regression shrinks the coefficients of the principal components, shrinking more depending on the size of the corresponding eigenvalue;\n",
    "- PCR discards the $p-M$ smallest eigenvalue components."
   ]
  },
  {
   "cell_type": "code",
   "execution_count": 1,
   "metadata": {},
   "outputs": [],
   "source": [
    "import numpy as np\n",
    "import pandas as pd"
   ]
  },
  {
   "cell_type": "code",
   "execution_count": 2,
   "metadata": {},
   "outputs": [],
   "source": [
    "data = pd.read_csv(\"~/Statistical-Learning/data/prostate_cancer.csv\")\n",
    "data = data.drop('Unnamed: 0', axis = 1)"
   ]
  },
  {
   "cell_type": "code",
   "execution_count": 47,
   "metadata": {},
   "outputs": [
    {
     "data": {
      "text/plain": [
       "(67, 8)"
      ]
     },
     "execution_count": 47,
     "metadata": {},
     "output_type": "execute_result"
    }
   ],
   "source": [
    "data_x = data.drop(['lpsa','train'], axis=1)\n",
    "data_x_normalized = (data_x - data_x.mean())/data_x.std()\n",
    "x_train = data_x_normalized[data.train=='T']\n",
    "y_train = data[data.train=='T'].lpsa\n",
    "x_train.shape"
   ]
  },
  {
   "cell_type": "code",
   "execution_count": 48,
   "metadata": {},
   "outputs": [],
   "source": [
    "def ridge(l, x_train, y_train):\n",
    "    mat_x = x_train.values\n",
    "#     mat_x = np.hstack((np.ones((len(x_train.values), 1)), x_train.values))\n",
    "    mat_xt = np.transpose(mat_x)\n",
    "    beta0 = np.mean(y_train)\n",
    "    vec_y = y_train-beta0\n",
    "    i = np.identity((mat_x.shape[1]))\n",
    "    beta = np.matmul(np.linalg.inv(np.matmul(mat_xt, mat_x)+l*i), np.matmul(mat_xt, vec_y.values))\n",
    "    beta = np.append(np.array([beta0]), beta)\n",
    "    df = np.matrix.trace(np.matmul(mat_x, np.matmul(np.linalg.inv(np.matmul(mat_xt, mat_x)+l*i), mat_xt)))\n",
    "    return beta, df"
   ]
  },
  {
   "cell_type": "code",
   "execution_count": 49,
   "metadata": {},
   "outputs": [],
   "source": [
    "def lambdas_from_edf(singular_squared:np.ndarray, interval:int) ->np.ndarray:\n",
    "    \"\"\"Given squared singular values of data matrix, calculate the lambdas\n",
    "    with `interval` parameter to split unit intervals s.t. the resulting\n",
    "    effective degrees of freedom are equidistant with 1/interval, via the\n",
    "    Newton-Raphson method. e.g., if interval = 10, it produces lambdas for\n",
    "    0, 0.5, 0.6, 0.7, ...\"\"\"\n",
    "    p = singular_squared.size\n",
    "    edfs = np.linspace(.5, p-.5, (p-1)*interval+1)\n",
    "    threshold = 1e-3\n",
    "    lambdas = []\n",
    "    for edf in edfs:\n",
    "        # Newton-Raphson\n",
    "        lambda0 = (p-edf)/edf\n",
    "        lambda1 = 1e6\n",
    "        diff = lambda1 - lambda0\n",
    "        while diff > threshold:\n",
    "            num = (singular_squared/(singular_squared+lambda0)).sum()-edf\n",
    "            denom = (singular_squared/((singular_squared+lambda0)**2)).sum()\n",
    "            lambda1 = lambda0 + num/denom\n",
    "            diff = lambda1 - lambda0\n",
    "            lambda0 = lambda1\n",
    "        lambdas.append(lambda1)\n",
    "    lambdas.append(0)\n",
    "    edfs = np.concatenate((edfs, [p]))\n",
    "    return edfs, np.array(lambdas)"
   ]
  },
  {
   "cell_type": "code",
   "execution_count": 50,
   "metadata": {},
   "outputs": [],
   "source": [
    "import collections\n",
    "import math\n",
    "\n",
    "u, s, vh = np.linalg.svd(x_train, full_matrices=False)\n",
    "s2 = s**2\n",
    "edfs, lambdas = lambdas_from_edf(s2, 2)"
   ]
  },
  {
   "cell_type": "code",
   "execution_count": 51,
   "metadata": {},
   "outputs": [
    {
     "data": {
      "text/plain": [
       "array([0.5, 1. , 1.5, 2. , 2.5, 3. , 3.5, 4. , 4.5, 5. , 5.5, 6. , 6.5,\n",
       "       7. , 7.5, 8. ])"
      ]
     },
     "execution_count": 51,
     "metadata": {},
     "output_type": "execute_result"
    }
   ],
   "source": [
    "edfs"
   ]
  },
  {
   "cell_type": "code",
   "execution_count": 52,
   "metadata": {},
   "outputs": [
    {
     "data": {
      "text/plain": [
       "4.874490520075382"
      ]
     },
     "execution_count": 52,
     "metadata": {},
     "output_type": "execute_result"
    }
   ],
   "source": [
    "cv_l = lambdas[edfs==7][0]\n",
    "cv_l"
   ]
  },
  {
   "cell_type": "code",
   "execution_count": 53,
   "metadata": {},
   "outputs": [],
   "source": [
    "beta, df = ridge(cv_l, x_train, y_train)"
   ]
  },
  {
   "cell_type": "code",
   "execution_count": 54,
   "metadata": {},
   "outputs": [
    {
     "data": {
      "text/plain": [
       "7.000000000003947"
      ]
     },
     "execution_count": 54,
     "metadata": {},
     "output_type": "execute_result"
    }
   ],
   "source": [
    "df"
   ]
  },
  {
   "cell_type": "code",
   "execution_count": 55,
   "metadata": {},
   "outputs": [
    {
     "data": {
      "text/plain": [
       "array([ 2.45234509,  0.58657879,  0.26065721, -0.10978358,  0.19778459,\n",
       "        0.27983639, -0.16902626,  0.00820232,  0.20522034])"
      ]
     },
     "execution_count": 55,
     "metadata": {},
     "output_type": "execute_result"
    }
   ],
   "source": [
    "beta"
   ]
  },
  {
   "cell_type": "code",
   "execution_count": 56,
   "metadata": {},
   "outputs": [
    {
     "data": {
      "text/plain": [
       "array([236.41051676, 117.90586262,  71.74230521,  42.14248438,\n",
       "        33.94639077,  26.63355916,  18.72563062,  12.17007033])"
      ]
     },
     "execution_count": 56,
     "metadata": {},
     "output_type": "execute_result"
    }
   ],
   "source": [
    "s2"
   ]
  },
  {
   "cell_type": "code",
   "execution_count": 57,
   "metadata": {},
   "outputs": [
    {
     "data": {
      "text/plain": [
       "array([0.97979779, 0.9602991 , 0.9363783 , 0.89632488, 0.87443638,\n",
       "       0.8452938 , 0.79345485, 0.7140149 ])"
      ]
     },
     "execution_count": 57,
     "metadata": {},
     "output_type": "execute_result"
    }
   ],
   "source": [
    "shrink_factors = s2/(s2+cv_l)\n",
    "shrink_factors"
   ]
  },
  {
   "cell_type": "code",
   "execution_count": 58,
   "metadata": {},
   "outputs": [],
   "source": [
    "pcr_factors = [1, 1, 1, 1, 1, 1, 1, 0]"
   ]
  },
  {
   "cell_type": "code",
   "execution_count": 59,
   "metadata": {},
   "outputs": [],
   "source": [
    "import matplotlib.pyplot as plt"
   ]
  },
  {
   "cell_type": "code",
   "execution_count": 60,
   "metadata": {},
   "outputs": [
    {
     "data": {
      "image/png": "[encoded data removed]",
      "text/plain": [
       "<Figure size 720x360 with 1 Axes>"
      ]
     },
     "metadata": {
      "needs_background": "light"
     },
     "output_type": "display_data"
    }
   ],
   "source": [
    "fig1 = plt.figure(figsize=(10,5))\n",
    "fig1.clear()\n",
    "ax = fig1.add_subplot(1,1,1)\n",
    "\n",
    "ax.plot(range(1,9), shrink_factors, '.-', color='blue', label='ridge')\n",
    "ax.plot(range(1,9), pcr_factors, '.-', color='orange', label='pcr')\n",
    "ax.set_xlabel(\"feature index\")\n",
    "ax.set_ylabel(\"shrinkage factor\")\n",
    "ax.legend()\n",
    "plt.show()"
   ]
  },
  {
   "cell_type": "code",
   "execution_count": null,
   "metadata": {},
   "outputs": [],
   "source": []
  },
  {
   "cell_type": "markdown",
   "metadata": {},
   "source": [
    "# 2. Partial Least Sqaures"
   ]
  },
  {
   "cell_type": "markdown",
   "metadata": {},
   "source": [
    "Unlike PCR, partial least squares (PLS) uses $\\mathbf{y}$ (in addition to $\\mathbf{X}$) for the construction for a set of linear combinations of the inputs.\n",
    "\n",
    "PLS is not scale invariant like PCR, so we assume that each $\\mathbf{x}_j$ is standardized to have mean $0$ and variance $1$."
   ]
  },
  {
   "cell_type": "markdown",
   "metadata": {},
   "source": [
    "## Algorithm:"
   ]
  },
  {
   "cell_type": "markdown",
   "metadata": {},
   "source": [
    "1. Standardized each $\\mathbf{x}_j$ to have mean $0$ and variance $1$.\n",
    "Set$$\\begin{align}\n",
    "\\hat{\\mathbf{y}}^{(0)} = \\bar{y}\\mathbf{1} \\\\\n",
    "\\mathbf{x}_j^{(0)} = \\mathbf{x}_j, \\text{ for } j=1,\\cdots,p.\n",
    "\\end{align}$$\n",
    "\n",
    "2. For $m = 1,2,\\cdots,p$\n",
    "\n",
    " - $\\mathbf{z}_m = \\sum_{j=1}^p \\hat\\rho_{mj}\\mathbf{x}_j^{(m-1)}$, where $\\hat\\rho_{mj} = \\langle \\mathbf{x}_j^{(m-1)},\\mathbf{y}\\rangle$.\n",
    " - $\\hat\\theta_m = \\langle\\mathbf{z}_m,\\mathbf{y}\\rangle \\big/ \\langle\\mathbf{z}_m,\\mathbf{z}_m\\rangle$.\n",
    " - $\\hat{\\mathbf{y}}^{(m)} = \\hat{\\mathbf{y}}^{(m-1)} + \\hat\\theta_m \\mathbf{z}_m$.\n",
    " - Orthogonalize each $\\mathbf{x}_j^{(m-1)}$ w.r.t. $\\mathbf{z}_m$: <br>\n",
    "$\\mathbf{x}_j^{(m)} = \\mathbf{x}_j^{(m-1)} - \\frac{\\langle\\mathbf{z}_m,\\mathbf{x}_j^{(m-1)}\\rangle}{\\langle\\mathbf{z}_m,\\mathbf{y}\\rangle}\\mathbf{z}_m, \\text{ for } j=1,2,\\cdots,p$.\n",
    "<br>\n",
    "3. Output the sequence of fitted vectors $\\left\\lbrace \\hat{\\mathbf{y}}^{(m)}\\right\\rbrace_1^p$.\n",
    "Since the $\\left\\lbrace \\mathbf{z}_l \\right\\rbrace_1^m$ are linear in the original $\\mathbf{x}_j$, so is\n",
    "$$\n",
    "\\hat{\\mathbf{y}}^{(m)} = \\mathbf{X}\\hat\\beta^{\\text{pls}}(m).\n",
    "$$These linear coefficients can be recovered from the sequence of PLS transformations."
   ]
  },
  {
   "cell_type": "markdown",
   "metadata": {},
   "source": [
    "## Details:"
   ]
  },
  {
   "cell_type": "markdown",
   "metadata": {},
   "source": [
    "PLS begins by computing the weights\n",
    "\n",
    "$$\n",
    "\\hat\\rho_{1j} = \\langle \\mathbf{x}_j,\\mathbf{y} \\rangle, \\text{ for each } j,\n",
    "$$\n",
    "which are in fact the univariate regression coefficients, since $\\mathbf{x}_j$ are standardized (only for the first step $m=1$).\n",
    "\n",
    "From this we construct derived input\n",
    "\n",
    "$$\n",
    "\\mathbf{z}_1 = \\sum_j \\hat\\rho_{1j}\\mathbf{j},\n",
    "$$\n",
    "which is the first PLS direction. Hence in the construction of each $\\mathbf{z}_m$, the inputs are weighted by the strength of their univariate effect on $\\mathbf{y}$.\n",
    "\n",
    "The outcome $\\mathbf{y}$ is regressed on $\\mathbf{z}_1$ giving coefficient $\\hat\\theta_1$, and then we orthogonalize $\\mathbf{x}_1,\\cdots,\\mathbf{x}_p$ w.r.t. $\\mathbf{z}_1$.\n",
    "\n",
    "We continue this process, until $M\\le p$ directions have been obtained. In this manner, PLS produces a sequence of derived, orthogonal inputs or directions $\\mathbf{z}_1,\\cdots,\\mathbf{z}_M$.\n",
    "\n",
    " - As with PCR, if $M=p$, then $\\hat\\beta^{\\text{pls}} = \\hat\\beta^{\\text{ls}}$.\n",
    " - Using $M < p$ directions produces a reduced regression."
   ]
  },
  {
   "cell_type": "code",
   "execution_count": null,
   "metadata": {},
   "outputs": [],
   "source": []
  }
 ],
 "metadata": {
  "kernelspec": {
   "display_name": "Python 3",
   "language": "python",
   "name": "python3"
  },
  "language_info": {
   "codemirror_mode": {
    "name": "ipython",
    "version": 3
   },
   "file_extension": ".py",
   "mimetype": "text/x-python",
   "name": "python",
   "nbconvert_exporter": "python",
   "pygments_lexer": "ipython3",
   "version": "3.7.6"
  }
 },
 "nbformat": 4,
 "nbformat_minor": 4
}
