{
 "cells": [
  {
   "cell_type": "code",
   "execution_count": 1,
   "metadata": {},
   "outputs": [],
   "source": [
    "import numpy as np\n",
    "import pandas as pd"
   ]
  },
  {
   "cell_type": "code",
   "execution_count": 2,
   "metadata": {},
   "outputs": [],
   "source": [
    "data = pd.read_csv(\"~/Statistical-Learning/data/prostate_cancer.csv\")\n",
    "data = data.drop('Unnamed: 0', axis = 1)"
   ]
  },
  {
   "cell_type": "code",
   "execution_count": 3,
   "metadata": {},
   "outputs": [
    {
     "data": {
      "text/html": [
       "<div>\n",
       "<style scoped>\n",
       "    .dataframe tbody tr th:only-of-type {\n",
       "        vertical-align: middle;\n",
       "    }\n",
       "\n",
       "    .dataframe tbody tr th {\n",
       "        vertical-align: top;\n",
       "    }\n",
       "\n",
       "    .dataframe thead th {\n",
       "        text-align: right;\n",
       "    }\n",
       "</style>\n",
       "<table border=\"1\" class=\"dataframe\">\n",
       "  <thead>\n",
       "    <tr style=\"text-align: right;\">\n",
       "      <th></th>\n",
       "      <th>lcavol</th>\n",
       "      <th>lweight</th>\n",
       "      <th>age</th>\n",
       "      <th>lbph</th>\n",
       "      <th>svi</th>\n",
       "      <th>lcp</th>\n",
       "      <th>gleason</th>\n",
       "      <th>pgg45</th>\n",
       "      <th>lpsa</th>\n",
       "      <th>train</th>\n",
       "    </tr>\n",
       "  </thead>\n",
       "  <tbody>\n",
       "    <tr>\n",
       "      <th>0</th>\n",
       "      <td>-0.579818</td>\n",
       "      <td>2.769459</td>\n",
       "      <td>50</td>\n",
       "      <td>-1.386294</td>\n",
       "      <td>0</td>\n",
       "      <td>-1.386294</td>\n",
       "      <td>6</td>\n",
       "      <td>0</td>\n",
       "      <td>-0.430783</td>\n",
       "      <td>T</td>\n",
       "    </tr>\n",
       "    <tr>\n",
       "      <th>1</th>\n",
       "      <td>-0.994252</td>\n",
       "      <td>3.319626</td>\n",
       "      <td>58</td>\n",
       "      <td>-1.386294</td>\n",
       "      <td>0</td>\n",
       "      <td>-1.386294</td>\n",
       "      <td>6</td>\n",
       "      <td>0</td>\n",
       "      <td>-0.162519</td>\n",
       "      <td>T</td>\n",
       "    </tr>\n",
       "    <tr>\n",
       "      <th>2</th>\n",
       "      <td>-0.510826</td>\n",
       "      <td>2.691243</td>\n",
       "      <td>74</td>\n",
       "      <td>-1.386294</td>\n",
       "      <td>0</td>\n",
       "      <td>-1.386294</td>\n",
       "      <td>7</td>\n",
       "      <td>20</td>\n",
       "      <td>-0.162519</td>\n",
       "      <td>T</td>\n",
       "    </tr>\n",
       "    <tr>\n",
       "      <th>3</th>\n",
       "      <td>-1.203973</td>\n",
       "      <td>3.282789</td>\n",
       "      <td>58</td>\n",
       "      <td>-1.386294</td>\n",
       "      <td>0</td>\n",
       "      <td>-1.386294</td>\n",
       "      <td>6</td>\n",
       "      <td>0</td>\n",
       "      <td>-0.162519</td>\n",
       "      <td>T</td>\n",
       "    </tr>\n",
       "    <tr>\n",
       "      <th>4</th>\n",
       "      <td>0.751416</td>\n",
       "      <td>3.432373</td>\n",
       "      <td>62</td>\n",
       "      <td>-1.386294</td>\n",
       "      <td>0</td>\n",
       "      <td>-1.386294</td>\n",
       "      <td>6</td>\n",
       "      <td>0</td>\n",
       "      <td>0.371564</td>\n",
       "      <td>T</td>\n",
       "    </tr>\n",
       "  </tbody>\n",
       "</table>\n",
       "</div>"
      ],
      "text/plain": [
       "     lcavol   lweight  age      lbph  svi       lcp  gleason  pgg45      lpsa  \\\n",
       "0 -0.579818  2.769459   50 -1.386294    0 -1.386294        6      0 -0.430783   \n",
       "1 -0.994252  3.319626   58 -1.386294    0 -1.386294        6      0 -0.162519   \n",
       "2 -0.510826  2.691243   74 -1.386294    0 -1.386294        7     20 -0.162519   \n",
       "3 -1.203973  3.282789   58 -1.386294    0 -1.386294        6      0 -0.162519   \n",
       "4  0.751416  3.432373   62 -1.386294    0 -1.386294        6      0  0.371564   \n",
       "\n",
       "  train  \n",
       "0     T  \n",
       "1     T  \n",
       "2     T  \n",
       "3     T  \n",
       "4     T  "
      ]
     },
     "execution_count": 3,
     "metadata": {},
     "output_type": "execute_result"
    }
   ],
   "source": [
    "data.head()"
   ]
  },
  {
   "cell_type": "markdown",
   "metadata": {},
   "source": [
    "# 3.3.1 Best-Subset Selection"
   ]
  },
  {
   "cell_type": "markdown",
   "metadata": {},
   "source": [
    "Best subset regression finds for each k ∈ {0, 1, 2, . . . , p} the subset of size k that gives smallest residual sum of squares"
   ]
  },
  {
   "cell_type": "code",
   "execution_count": 4,
   "metadata": {},
   "outputs": [],
   "source": [
    "data_x = data.drop(['lpsa','train'], axis=1)"
   ]
  },
  {
   "cell_type": "code",
   "execution_count": 5,
   "metadata": {},
   "outputs": [],
   "source": [
    "data_x_normalized = (data_x - data_x.mean())/data_x.std()"
   ]
  },
  {
   "cell_type": "code",
   "execution_count": 11,
   "metadata": {},
   "outputs": [
    {
     "data": {
      "text/plain": [
       "(67, 8)"
      ]
     },
     "execution_count": 11,
     "metadata": {},
     "output_type": "execute_result"
    }
   ],
   "source": [
    "x_train = data_x_normalized[data.train=='T']\n",
    "y_train = data[data.train=='T'].lpsa\n",
    "x_train.shape"
   ]
  },
  {
   "cell_type": "code",
   "execution_count": 31,
   "metadata": {},
   "outputs": [],
   "source": [
    "def ols_rss(subset):\n",
    "    sub_x_train = x_train.loc[:,subset]\n",
    "    mat_x = np.hstack((np.ones((len(sub_x_train.values), 1)), sub_x_train.values))\n",
    "    mat_xt = np.transpose(mat_x)\n",
    "    ols_beta = np.linalg.solve(np.matmul(mat_xt, mat_x), np.matmul(mat_xt, y_train.values))\n",
    "    y_train_ols = np.matmul(mat_x, ols_beta)\n",
    "    rss = sum((y_train_ols - y_train)**2)\n",
    "    return rss"
   ]
  },
  {
   "cell_type": "code",
   "execution_count": 16,
   "metadata": {},
   "outputs": [],
   "source": [
    "import itertools"
   ]
  },
  {
   "cell_type": "code",
   "execution_count": 27,
   "metadata": {},
   "outputs": [
    {
     "name": "stdout",
     "output_type": "stream",
     "text": [
      "('lcavol', 'lweight', 'age', 'lbph', 'svi', 'lcp', 'gleason', 'pgg45')\n"
     ]
    }
   ],
   "source": [
    "column_combinations = itertools.combinations(x_train.columns, 8)\n",
    "for subset in column_combinations:\n",
    "    print(subset)"
   ]
  },
  {
   "cell_type": "code",
   "execution_count": 13,
   "metadata": {},
   "outputs": [],
   "source": [
    "rss_dict = {}"
   ]
  },
  {
   "cell_type": "code",
   "execution_count": 34,
   "metadata": {},
   "outputs": [],
   "source": [
    "for k in range(x_train.shape[1]+1): # When k=0, select constant only.\n",
    "    rss_list = []\n",
    "    column_combinations = itertools.combinations(x_train.columns, k)\n",
    "    for subset in column_combinations:\n",
    "        rss = ols_rss(subset)\n",
    "        rss_list.append(rss)\n",
    "    rss_dict[k] = rss_list"
   ]
  },
  {
   "cell_type": "markdown",
   "metadata": {},
   "source": [
    "### Plot"
   ]
  },
  {
   "cell_type": "code",
   "execution_count": 36,
   "metadata": {},
   "outputs": [],
   "source": [
    "import matplotlib.pyplot as plt"
   ]
  },
  {
   "cell_type": "code",
   "execution_count": 51,
   "metadata": {},
   "outputs": [
    {
     "data": {
      "image/png": "[encoded data removed]",
      "text/plain": [
       "<Figure size 720x432 with 1 Axes>"
      ]
     },
     "metadata": {
      "needs_background": "light"
     },
     "output_type": "display_data"
    }
   ],
   "source": [
    "fig1 = plt.figure(figsize=(10,6))\n",
    "fig1.clear()\n",
    "ax = fig1.add_subplot(1,1,1)\n",
    "min_rss_list = []\n",
    "for key, value in rss_dict.items():\n",
    "    for rss in value:\n",
    "        ax.plot(key, rss, 'o', color='gray', markersize=3)\n",
    "    min_rss_list.append(min(value))\n",
    "ax.plot(range(len(rss_dict.keys())), min_rss_list, 'o--', color='red') \n",
    "ax.set_xlabel('Subset Size k')\n",
    "ax.set_ylabel('Residual Sum-of-Squares')\n",
    "plt.show()"
   ]
  },
  {
   "cell_type": "markdown",
   "metadata": {},
   "source": [
    "The lower boundary represents the models that are eligible for selection by the best-subsets approach. Note that the best subset of size 2, for example, need not include the variable that was in the best subset of size 1 (for this example all the subsets are nested). The best-subset curve (red lower boundary in Figure 3.5) is necessarily decreasing, so cannot be used to select the subset size k.\n"
   ]
  },
  {
   "cell_type": "markdown",
   "metadata": {},
   "source": [
    "# 3.3.2 Forward- and Backward-Stepwise Selection"
   ]
  },
  {
   "cell_type": "markdown",
   "metadata": {},
   "source": [
    "## Foward"
   ]
  },
  {
   "cell_type": "markdown",
   "metadata": {},
   "source": [
    "Advantage: <br>\n",
    "• Computational; for large p we cannot compute the best subset sequence, but we can always compute the forward stepwise sequence (even when p ≫ N). <br>\n",
    "• Statistical; a price is paid in variance for selecting the best subset of each size; forward stepwise is a more constrained search, and will have lower variance, but perhaps more bias."
   ]
  },
  {
   "cell_type": "code",
   "execution_count": 73,
   "metadata": {},
   "outputs": [],
   "source": [
    "def forward_stepwise(x_train, y_train):\n",
    "    fstep_dict={}\n",
    "    subset = []\n",
    "    fstep_x_train = x_train.copy()\n",
    "    rss = ols_rss(subset)\n",
    "    fstep_dict[0] = rss\n",
    "    for k in range(x_train.shape[1]):\n",
    "        print(\"k:\", k+1)\n",
    "        rss_k = []\n",
    "        for i in range(fstep_x_train.shape[1]):\n",
    "            subset_k = subset.copy()\n",
    "            subset_k.append(fstep_x_train.columns[i])\n",
    "            print(\"subset_k:\", subset_k)\n",
    "            rss_i = ols_rss(subset_k)\n",
    "            rss_k.append(rss_i)\n",
    "        print(\"rss_k:\", rss_k)\n",
    "        rss = min(rss_k)\n",
    "        j = rss_k.index(rss)\n",
    "        subset.append(fstep_x_train.columns[j])\n",
    "        fstep_x_train = fstep_x_train.drop(fstep_x_train.columns[j], axis=1)\n",
    "        print(\"subset:\", subset)\n",
    "        fstep_dict[len(subset)] = rss\n",
    "    return fstep_dict\n",
    "    "
   ]
  },
  {
   "cell_type": "code",
   "execution_count": 91,
   "metadata": {},
   "outputs": [
    {
     "name": "stdout",
     "output_type": "stream",
     "text": [
      "k: 1\n",
      "subset_k: ['lcavol']\n",
      "subset_k: ['lweight']\n",
      "subset_k: ['age']\n",
      "subset_k: ['lbph']\n",
      "subset_k: ['svi']\n",
      "subset_k: ['lcp']\n",
      "subset_k: ['gleason']\n",
      "subset_k: ['pgg45']\n",
      "rss_k: [44.52858265645383, 73.61354018577536, 91.29203902075545, 89.62491208245952, 66.42240272124413, 73.23939131621877, 84.99179045937804, 76.95323667726328]\n",
      "subset: ['lcavol']\n",
      "k: 2\n",
      "subset_k: ['lcavol', 'lweight']\n",
      "subset_k: ['lcavol', 'age']\n",
      "subset_k: ['lcavol', 'lbph']\n",
      "subset_k: ['lcavol', 'svi']\n",
      "subset_k: ['lcavol', 'lcp']\n",
      "subset_k: ['lcavol', 'gleason']\n",
      "subset_k: ['lcavol', 'pgg45']\n",
      "rss_k: [37.091845632561345, 44.49564216406745, 39.99230435121233, 42.312584301379616, 44.46756799853183, 44.42407814925553, 43.423103787681725]\n",
      "subset: ['lcavol', 'lweight']\n",
      "k: 3\n",
      "subset_k: ['lcavol', 'lweight', 'age']\n",
      "subset_k: ['lcavol', 'lweight', 'lbph']\n",
      "subset_k: ['lcavol', 'lweight', 'svi']\n",
      "subset_k: ['lcavol', 'lweight', 'lcp']\n",
      "subset_k: ['lcavol', 'lweight', 'gleason']\n",
      "subset_k: ['lcavol', 'lweight', 'pgg45']\n",
      "rss_k: [36.81722941600001, 36.01516710570593, 34.907748856567856, 37.08978744779852, 36.65849242770231, 35.4340332399862]\n",
      "subset: ['lcavol', 'lweight', 'svi']\n",
      "k: 4\n",
      "subset_k: ['lcavol', 'lweight', 'svi', 'age']\n",
      "subset_k: ['lcavol', 'lweight', 'svi', 'lbph']\n",
      "subset_k: ['lcavol', 'lweight', 'svi', 'lcp']\n",
      "subset_k: ['lcavol', 'lweight', 'svi', 'gleason']\n",
      "subset_k: ['lcavol', 'lweight', 'svi', 'pgg45']\n",
      "rss_k: [34.712129622912386, 32.81499474881554, 34.27369472143731, 34.606688894416216, 34.074151863327074]\n",
      "subset: ['lcavol', 'lweight', 'svi', 'lbph']\n",
      "k: 5\n",
      "subset_k: ['lcavol', 'lweight', 'svi', 'lbph', 'age']\n",
      "subset_k: ['lcavol', 'lweight', 'svi', 'lbph', 'lcp']\n",
      "subset_k: ['lcavol', 'lweight', 'svi', 'lbph', 'gleason']\n",
      "subset_k: ['lcavol', 'lweight', 'svi', 'lbph', 'pgg45']\n",
      "rss_k: [32.28443746269632, 32.32283679558271, 32.63684832972553, 32.069447332331784]\n",
      "subset: ['lcavol', 'lweight', 'svi', 'lbph', 'pgg45']\n",
      "k: 6\n",
      "subset_k: ['lcavol', 'lweight', 'svi', 'lbph', 'pgg45', 'age']\n",
      "subset_k: ['lcavol', 'lweight', 'svi', 'lbph', 'pgg45', 'lcp']\n",
      "subset_k: ['lcavol', 'lweight', 'svi', 'lbph', 'pgg45', 'gleason']\n",
      "rss_k: [31.195594615243174, 30.539778129147365, 32.002775193927526]\n",
      "subset: ['lcavol', 'lweight', 'svi', 'lbph', 'pgg45', 'lcp']\n",
      "k: 7\n",
      "subset_k: ['lcavol', 'lweight', 'svi', 'lbph', 'pgg45', 'lcp', 'age']\n",
      "subset_k: ['lcavol', 'lweight', 'svi', 'lbph', 'pgg45', 'lcp', 'gleason']\n",
      "rss_k: [29.437300317417083, 30.414990170034596]\n",
      "subset: ['lcavol', 'lweight', 'svi', 'lbph', 'pgg45', 'lcp', 'age']\n",
      "k: 8\n",
      "subset_k: ['lcavol', 'lweight', 'svi', 'lbph', 'pgg45', 'lcp', 'age', 'gleason']\n",
      "rss_k: [29.426384459908412]\n",
      "subset: ['lcavol', 'lweight', 'svi', 'lbph', 'pgg45', 'lcp', 'age', 'gleason']\n"
     ]
    },
    {
     "data": {
      "text/plain": [
       "{0: 96.28144501815153,\n",
       " 1: 44.52858265645383,\n",
       " 2: 37.091845632561345,\n",
       " 3: 34.907748856567856,\n",
       " 4: 32.81499474881554,\n",
       " 5: 32.069447332331784,\n",
       " 6: 30.539778129147365,\n",
       " 7: 29.437300317417083,\n",
       " 8: 29.426384459908412}"
      ]
     },
     "execution_count": 91,
     "metadata": {},
     "output_type": "execute_result"
    }
   ],
   "source": [
    "fstep_dict = forward_stepwise(x_train, y_train)\n",
    "fstep_dict"
   ]
  },
  {
   "cell_type": "markdown",
   "metadata": {},
   "source": [
    "## Backward"
   ]
  },
  {
   "cell_type": "markdown",
   "metadata": {},
   "source": [
    "Backward selection can only be used when **N > p**, while forward stepwise can always be used."
   ]
  },
  {
   "cell_type": "code",
   "execution_count": 92,
   "metadata": {},
   "outputs": [],
   "source": [
    "def backward_stepwise(x_train, y_train):\n",
    "    fstep_dict={}\n",
    "    subset = list(x_train.columns)\n",
    "    fstep_x_train = x_train.copy()\n",
    "    \n",
    "    for k in range(x_train.shape[1]):\n",
    "        print(\"k:\", len(subset))\n",
    "        print(\"subset:\", subset)\n",
    "        rss = ols_rss(subset)\n",
    "        fstep_dict[len(subset)] = rss\n",
    "        rss_k = []\n",
    "        for i in range(len(subset)):\n",
    "            subset_k = subset.copy()\n",
    "            subset_k.remove(subset_k[i])\n",
    "            print(\"subset_k:\", subset_k)\n",
    "            rss_i = ols_rss(subset_k)\n",
    "            rss_k.append(rss_i)\n",
    "        print(\"rss_k:\", rss_k)\n",
    "        rss = min(rss_k)\n",
    "        j = rss_k.index(rss)\n",
    "        subset.remove(subset[j])\n",
    "    \n",
    "    fstep_dict[0] = rss\n",
    "    \n",
    "    return fstep_dict\n",
    "    "
   ]
  },
  {
   "cell_type": "code",
   "execution_count": 93,
   "metadata": {},
   "outputs": [
    {
     "name": "stdout",
     "output_type": "stream",
     "text": [
      "k: 8\n",
      "subset: ['lcavol', 'lweight', 'age', 'lbph', 'svi', 'lcp', 'gleason', 'pgg45']\n",
      "subset_k: ['lweight', 'age', 'lbph', 'svi', 'lcp', 'gleason', 'pgg45']\n",
      "subset_k: ['lcavol', 'age', 'lbph', 'svi', 'lcp', 'gleason', 'pgg45']\n",
      "subset_k: ['lcavol', 'lweight', 'lbph', 'svi', 'lcp', 'gleason', 'pgg45']\n",
      "subset_k: ['lcavol', 'lweight', 'age', 'svi', 'lcp', 'gleason', 'pgg45']\n",
      "subset_k: ['lcavol', 'lweight', 'age', 'lbph', 'lcp', 'gleason', 'pgg45']\n",
      "subset_k: ['lcavol', 'lweight', 'age', 'lbph', 'svi', 'gleason', 'pgg45']\n",
      "subset_k: ['lcavol', 'lweight', 'age', 'lbph', 'svi', 'lcp', 'pgg45']\n",
      "subset_k: ['lcavol', 'lweight', 'age', 'lbph', 'svi', 'lcp', 'gleason']\n",
      "rss_k: [44.03662151270498, 33.26543290315887, 30.414990170034592, 31.57070601748839, 32.51981848057306, 31.19468834590385, 29.437300317417083, 30.958629941880638]\n",
      "k: 7\n",
      "subset: ['lcavol', 'lweight', 'age', 'lbph', 'svi', 'lcp', 'pgg45']\n",
      "subset_k: ['lweight', 'age', 'lbph', 'svi', 'lcp', 'pgg45']\n",
      "subset_k: ['lcavol', 'age', 'lbph', 'svi', 'lcp', 'pgg45']\n",
      "subset_k: ['lcavol', 'lweight', 'lbph', 'svi', 'lcp', 'pgg45']\n",
      "subset_k: ['lcavol', 'lweight', 'age', 'svi', 'lcp', 'pgg45']\n",
      "subset_k: ['lcavol', 'lweight', 'age', 'lbph', 'lcp', 'pgg45']\n",
      "subset_k: ['lcavol', 'lweight', 'age', 'lbph', 'svi', 'pgg45']\n",
      "subset_k: ['lcavol', 'lweight', 'age', 'lbph', 'svi', 'lcp']\n",
      "rss_k: [44.324641253846785, 33.442089040181685, 30.53977812914736, 31.572711025970815, 32.6037506583923, 31.195594615243177, 31.81283065977323]\n",
      "k: 6\n",
      "subset: ['lcavol', 'lweight', 'lbph', 'svi', 'lcp', 'pgg45']\n",
      "subset_k: ['lweight', 'lbph', 'svi', 'lcp', 'pgg45']\n",
      "subset_k: ['lcavol', 'lbph', 'svi', 'lcp', 'pgg45']\n",
      "subset_k: ['lcavol', 'lweight', 'svi', 'lcp', 'pgg45']\n",
      "subset_k: ['lcavol', 'lweight', 'lbph', 'lcp', 'pgg45']\n",
      "subset_k: ['lcavol', 'lweight', 'lbph', 'svi', 'pgg45']\n",
      "subset_k: ['lcavol', 'lweight', 'lbph', 'svi', 'lcp']\n",
      "rss_k: [44.535176559361354, 33.95353798152504, 32.21753338431634, 33.83552524294456, 32.06944733233178, 32.3228367955827]\n",
      "k: 5\n",
      "subset: ['lcavol', 'lweight', 'lbph', 'svi', 'pgg45']\n",
      "subset_k: ['lweight', 'lbph', 'svi', 'pgg45']\n",
      "subset_k: ['lcavol', 'lbph', 'svi', 'pgg45']\n",
      "subset_k: ['lcavol', 'lweight', 'svi', 'pgg45']\n",
      "subset_k: ['lcavol', 'lweight', 'lbph', 'pgg45']\n",
      "subset_k: ['lcavol', 'lweight', 'lbph', 'svi']\n",
      "rss_k: [44.69211721481236, 35.493291436340286, 34.074151863327074, 34.2567879631356, 32.81499474881555]\n",
      "k: 4\n",
      "subset: ['lcavol', 'lweight', 'lbph', 'svi']\n",
      "subset_k: ['lweight', 'lbph', 'svi']\n",
      "subset_k: ['lcavol', 'lbph', 'svi']\n",
      "subset_k: ['lcavol', 'lweight', 'svi']\n",
      "subset_k: ['lcavol', 'lweight', 'lbph']\n",
      "rss_k: [48.60132413549337, 35.96948006886921, 34.907748856567856, 36.01516710570593]\n",
      "k: 3\n",
      "subset: ['lcavol', 'lweight', 'svi']\n",
      "subset_k: ['lweight', 'svi']\n",
      "subset_k: ['lcavol', 'svi']\n",
      "subset_k: ['lcavol', 'lweight']\n",
      "rss_k: [51.71424679247038, 42.312584301379616, 37.091845632561345]\n",
      "k: 2\n",
      "subset: ['lcavol', 'lweight']\n",
      "subset_k: ['lweight']\n",
      "subset_k: ['lcavol']\n",
      "rss_k: [73.61354018577536, 44.52858265645383]\n",
      "k: 1\n",
      "subset: ['lcavol']\n",
      "subset_k: []\n",
      "rss_k: [96.28144501815153]\n"
     ]
    },
    {
     "data": {
      "text/plain": [
       "{8: 29.426384459908398,\n",
       " 7: 29.437300317417083,\n",
       " 6: 30.53977812914736,\n",
       " 5: 32.06944733233178,\n",
       " 4: 32.81499474881555,\n",
       " 3: 34.907748856567856,\n",
       " 2: 37.091845632561345,\n",
       " 1: 44.52858265645383,\n",
       " 0: 96.28144501815153}"
      ]
     },
     "execution_count": 93,
     "metadata": {},
     "output_type": "execute_result"
    }
   ],
   "source": [
    "bstep_dict = backward_stepwise(x_train, y_train)\n",
    "bstep_dict"
   ]
  },
  {
   "cell_type": "code",
   "execution_count": 106,
   "metadata": {},
   "outputs": [
    {
     "data": {
      "text/plain": [
       "[96.28144501815153,\n",
       " 44.52858265645383,\n",
       " 37.091845632561345,\n",
       " 34.907748856567856,\n",
       " 32.81499474881555,\n",
       " 32.06944733233178,\n",
       " 30.53977812914736,\n",
       " 29.437300317417083,\n",
       " 29.426384459908398]"
      ]
     },
     "execution_count": 106,
     "metadata": {},
     "output_type": "execute_result"
    }
   ],
   "source": [
    "min_rss_list"
   ]
  },
  {
   "cell_type": "markdown",
   "metadata": {},
   "source": [
    "The dataset is too small, so these three results are identical."
   ]
  },
  {
   "cell_type": "markdown",
   "metadata": {},
   "source": [
    "# Foward-Stagewise"
   ]
  },
  {
   "cell_type": "markdown",
   "metadata": {},
   "source": [
    "It starts like forward-stepwise regression, with an intercept equal to y ̄, and centered predictors with coefficients initially all 0. At each step the algorithm identifies the variable most correlated with the current residual. It then computes the simple linear regression coefficient of the residual on this chosen variable, and then adds it to the current coefficient for that variable. This is continued till none of the variables have correlation with the residuals—i.e. the least-squares fit when N > p."
   ]
  },
  {
   "cell_type": "markdown",
   "metadata": {},
   "source": [
    "As a consequence, forward stagewise can take many more than p steps to reach the least squares fit, and historically has been dismissed as being inefficient. It turns out that this “slow fitting” can pay dividends in high-dimensional problems."
   ]
  },
  {
   "cell_type": "markdown",
   "metadata": {},
   "source": [
    "Forward-stagewise regression is included in Figure 3.6. In this example it takes over 1000 steps to get all the correlations below 10^-4."
   ]
  },
  {
   "cell_type": "markdown",
   "metadata": {},
   "source": [
    "# 3.3.4 Select k by 10-fold CV & \"one-standard-error\" rule"
   ]
  },
  {
   "cell_type": "markdown",
   "metadata": {},
   "source": [
    "Often a “one-standard-error” rule is used with cross-validation, in which we choose the most parsimonious model whose error is no more than one standard error above the error of the best model."
   ]
  },
  {
   "cell_type": "markdown",
   "metadata": {},
   "source": [
    "### Construct N-fold"
   ]
  },
  {
   "cell_type": "code",
   "execution_count": 184,
   "metadata": {},
   "outputs": [
    {
     "data": {
      "text/plain": [
       "(67, 8)"
      ]
     },
     "execution_count": 184,
     "metadata": {},
     "output_type": "execute_result"
    }
   ],
   "source": [
    "x_train = data_x_normalized[data.train=='T']\n",
    "y_train = data[data.train=='T'].lpsa\n",
    "x_train.shape"
   ]
  },
  {
   "cell_type": "code",
   "execution_count": 116,
   "metadata": {},
   "outputs": [
    {
     "name": "stdout",
     "output_type": "stream",
     "text": [
      "0\n",
      "13\n",
      "26\n",
      "39\n",
      "52\n",
      "65\n"
     ]
    }
   ],
   "source": [
    "m=67\n",
    "n=5\n",
    "for i in range(0,m,int(m/n)):\n",
    "    print(i)"
   ]
  },
  {
   "cell_type": "code",
   "execution_count": 224,
   "metadata": {},
   "outputs": [],
   "source": [
    "def n_fold_cv(n, x_train, y_train):\n",
    "    cv_rss = []\n",
    "    m_rows = x_train.shape[0]\n",
    "    for i in range(0, m_rows-int(m_rows/n), int(m_rows/n)):\n",
    "#         print(i)\n",
    "        x_cv_val = x_train.iloc[i:i+int(m_rows/n), :]\n",
    "        x_cv_train = x_train.iloc[:i,:].append(x_train.iloc[i+int(m_rows/n):,:])\n",
    "        y_cv_val = y_train.iloc[i:i+int(m_rows/n)]\n",
    "        y_cv_train = y_train.iloc[:i].append(y_train.iloc[i+int(m_rows/n):])\n",
    "#         print(\"val vs train:\", (len(y_cv_val), len(y_cv_train)))\n",
    "        mat_x = np.hstack((np.ones((len(x_cv_train.values), 1)), x_cv_train.values))\n",
    "        mat_xt = np.transpose(mat_x)\n",
    "#         print(mat_x.shape)\n",
    "        ols_beta = np.linalg.solve(np.matmul(mat_xt, mat_x), np.matmul(mat_xt, y_cv_train.values))\n",
    "        mat_x_val = np.hstack((np.ones((len(x_cv_val.values), 1)), x_cv_val.values))\n",
    "#         y_cv_train_ols = np.matmul(mat_x, ols_beta)\n",
    "#         print(y_cv_train_ols)\n",
    "        y_cv_val_ols = np.matmul(mat_x_val, ols_beta)\n",
    "#         print(y_cv_val_ols)\n",
    "        rss = sum((y_cv_val_ols - y_cv_val)**2)/len(y_cv_val)\n",
    "#         print(rss)\n",
    "        cv_rss.append(rss)\n",
    "    return cv_rss\n",
    "    \n",
    "    \n",
    "    "
   ]
  },
  {
   "cell_type": "code",
   "execution_count": 236,
   "metadata": {},
   "outputs": [
    {
     "data": {
      "text/plain": [
       "[1.8006430829790006,\n",
       " 0.6722459990636772,\n",
       " 0.2983164423545364,\n",
       " 0.3456233354413912,\n",
       " 1.7560720212359706,\n",
       " 0.7080805685524205,\n",
       " 0.12908789235742613,\n",
       " 0.6991743112133365,\n",
       " 0.39531770482794576,\n",
       " 0.5782048279992614,\n",
       " 0.3780985092146798]"
      ]
     },
     "execution_count": 236,
     "metadata": {},
     "output_type": "execute_result"
    }
   ],
   "source": [
    "cv_rss = n_fold_cv(10, x_train, y_train)\n",
    "cv_rss"
   ]
  },
  {
   "cell_type": "code",
   "execution_count": 238,
   "metadata": {},
   "outputs": [
    {
     "name": "stdout",
     "output_type": "stream",
     "text": [
      "mean: 0.7055331541126951\n",
      "std: 0.5352452172542753\n",
      "standard error: 0.16925939932351655\n"
     ]
    }
   ],
   "source": [
    "cv_mean = np.mean(cv_rss)\n",
    "cv_std = np.std(cv_rss)\n",
    "print(\"mean:\", cv_mean)\n",
    "print(\"std:\", cv_std)\n",
    "print(\"standard error:\", cv_std/np.sqrt(10))"
   ]
  },
  {
   "cell_type": "markdown",
   "metadata": {},
   "source": [
    "### Select best subset of size K"
   ]
  },
  {
   "cell_type": "code",
   "execution_count": 208,
   "metadata": {},
   "outputs": [],
   "source": [
    "cv_result_dict = {}\n",
    "best_subset_list = []\n",
    "for k in range(x_train.shape[1]+1): # When k=0, select constant only.\n",
    "    cv_mean_list = []\n",
    "    cv_std_list = []\n",
    "    comb_list = []\n",
    "    column_combinations = itertools.combinations(x_train.columns, k)\n",
    "    for subset in column_combinations:\n",
    "        comb_list.append(subset)\n",
    "        sub_x_train = x_train.loc[:,subset]\n",
    "        cv_rss = n_fold_cv(10, sub_x_train, y_train)\n",
    "        cv_mean = np.mean(cv_rss)\n",
    "        cv_std = np.std(cv_rss)\n",
    "        cv_mean_list.append(cv_mean)\n",
    "        cv_std_list.append(cv_std)\n",
    "    best_mean = min(cv_mean_list)\n",
    "    best_index = cv_mean_list.index(best_mean)\n",
    "    best_std = cv_std_list[best_index]\n",
    "    best_subset = comb_list[best_index]\n",
    "    best_subset_list.append(best_subset)\n",
    "    cv_result_dict[k] = [best_mean, best_std]"
   ]
  },
  {
   "cell_type": "code",
   "execution_count": 210,
   "metadata": {},
   "outputs": [
    {
     "data": {
      "text/plain": [
       "[(),\n",
       " ('lcavol',),\n",
       " ('lcavol', 'lweight'),\n",
       " ('lcavol', 'lweight', 'age'),\n",
       " ('lcavol', 'lweight', 'age', 'gleason'),\n",
       " ('lcavol', 'lweight', 'age', 'lbph', 'pgg45'),\n",
       " ('lcavol', 'lweight', 'age', 'lbph', 'lcp', 'pgg45'),\n",
       " ('lcavol', 'lweight', 'age', 'lbph', 'svi', 'lcp', 'pgg45'),\n",
       " ('lcavol', 'lweight', 'age', 'lbph', 'svi', 'lcp', 'gleason', 'pgg45')]"
      ]
     },
     "execution_count": 210,
     "metadata": {},
     "output_type": "execute_result"
    }
   ],
   "source": [
    "best_subset_list"
   ]
  },
  {
   "cell_type": "code",
   "execution_count": 211,
   "metadata": {},
   "outputs": [
    {
     "data": {
      "text/plain": [
       "{0: [1.5867789378660617, 2.0593770668907543],\n",
       " 1: [0.7847837999623859, 0.5984141577562598],\n",
       " 2: [0.6683302294306919, 0.4312311557787881],\n",
       " 3: [0.671660382508508, 0.4484820823207442],\n",
       " 4: [0.6729378229809378, 0.40411706410496856],\n",
       " 5: [0.6730276171325018, 0.3799148184187523],\n",
       " 6: [0.6764255304844208, 0.3517423631741355],\n",
       " 7: [0.6644740714674865, 0.49499667555984117],\n",
       " 8: [0.7055331541126951, 0.5352452172542753]}"
      ]
     },
     "execution_count": 211,
     "metadata": {},
     "output_type": "execute_result"
    }
   ],
   "source": [
    "cv_result_dict"
   ]
  },
  {
   "cell_type": "code",
   "execution_count": 239,
   "metadata": {},
   "outputs": [],
   "source": [
    "cv_mean_result = np.array([x[0] for x in list(cv_result_dict.values())])\n",
    "cv_std_result = np.array([x[1] for x in list(cv_result_dict.values())])\n",
    "cv_ste_result = cv_std_result/np.sqrt(10)"
   ]
  },
  {
   "cell_type": "code",
   "execution_count": 240,
   "metadata": {},
   "outputs": [
    {
     "data": {
      "text/plain": [
       "array([0.65123221, 0.18923517, 0.13636727, 0.14182249, 0.12779304,\n",
       "       0.12013961, 0.1112307 , 0.15653169, 0.1692594 ])"
      ]
     },
     "execution_count": 240,
     "metadata": {},
     "output_type": "execute_result"
    }
   ],
   "source": [
    "cv_ste_result"
   ]
  },
  {
   "cell_type": "code",
   "execution_count": 241,
   "metadata": {},
   "outputs": [
    {
     "name": "stdout",
     "output_type": "stream",
     "text": [
      "[2.23801115 0.97401897 0.80469749 0.81348287 0.80073086 0.79316723\n",
      " 0.78765623 0.82100576 0.87479255]\n",
      "[0.93554673 0.59554863 0.53196296 0.5298379  0.54514479 0.552888\n",
      " 0.56519483 0.50794238 0.53627375]\n"
     ]
    }
   ],
   "source": [
    "cv_upper = cv_mean_result+cv_ste_result\n",
    "cv_lower = cv_mean_result-cv_ste_result\n",
    "print(cv_upper)\n",
    "print(cv_lower)"
   ]
  },
  {
   "cell_type": "code",
   "execution_count": 245,
   "metadata": {},
   "outputs": [],
   "source": [
    "best_cv_mean = min(cv_mean_result)\n",
    "index = list(cv_mean_result).index(best_cv_mean)\n",
    "one_standard_error_bound = cv_upper[index]"
   ]
  },
  {
   "cell_type": "code",
   "execution_count": 248,
   "metadata": {},
   "outputs": [
    {
     "data": {
      "image/png": "[encoded data removed]",
      "text/plain": [
       "<Figure size 432x720 with 1 Axes>"
      ]
     },
     "metadata": {
      "needs_background": "light"
     },
     "output_type": "display_data"
    }
   ],
   "source": [
    "fig3 = plt.figure(figsize=(6,10))\n",
    "fig3.clear()\n",
    "ax = fig3.add_subplot(1,1,1)\n",
    "ax.plot(list(cv_result_dict.keys()), cv_mean_result, 'o-', color='red')\n",
    "for k in list(cv_result_dict.keys()):\n",
    "    ax.plot([k,k], [cv_upper[k], cv_lower[k]], '.-', color='gray', linewidth=1)\n",
    "ax.plot([0,8], [one_standard_error_bound,one_standard_error_bound], '--', color='blue', alpha=0.3)\n",
    "ax.set_xlabel(\"Subset Size\")\n",
    "ax.set_ylabel(\"CV Error\")\n",
    "plt.show()\n",
    "    "
   ]
  },
  {
   "cell_type": "markdown",
   "metadata": {},
   "source": [
    "Here the model size 1 is chosen, according to the best subset selection, the model contains only 'lcavol'."
   ]
  },
  {
   "cell_type": "code",
   "execution_count": null,
   "metadata": {},
   "outputs": [],
   "source": []
  }
 ],
 "metadata": {
  "kernelspec": {
   "display_name": "Python 3",
   "language": "python",
   "name": "python3"
  },
  "language_info": {
   "codemirror_mode": {
    "name": "ipython",
    "version": 3
   },
   "file_extension": ".py",
   "mimetype": "text/x-python",
   "name": "python",
   "nbconvert_exporter": "python",
   "pygments_lexer": "ipython3",
   "version": "3.7.6"
  }
 },
 "nbformat": 4,
 "nbformat_minor": 4
}
