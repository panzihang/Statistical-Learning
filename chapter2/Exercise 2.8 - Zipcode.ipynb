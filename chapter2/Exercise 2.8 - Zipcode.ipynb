{
 "cells": [
  {
   "cell_type": "markdown",
   "metadata": {},
   "source": [
    "# 0. Load Data"
   ]
  },
  {
   "cell_type": "code",
   "execution_count": 11,
   "metadata": {},
   "outputs": [],
   "source": [
    "import numpy as np\n",
    "import os\n",
    "import gzip"
   ]
  },
  {
   "cell_type": "code",
   "execution_count": 19,
   "metadata": {},
   "outputs": [
    {
     "data": {
      "text/plain": [
       "'/Users/ag80509'"
      ]
     },
     "execution_count": 19,
     "metadata": {},
     "output_type": "execute_result"
    }
   ],
   "source": [
    "os.getcwd()"
   ]
  },
  {
   "cell_type": "code",
   "execution_count": 24,
   "metadata": {},
   "outputs": [],
   "source": [
    "os.chdir('Statistical-Learning')"
   ]
  },
  {
   "cell_type": "markdown",
   "metadata": {},
   "source": [
    "### Experiments"
   ]
  },
  {
   "cell_type": "code",
   "execution_count": 34,
   "metadata": {},
   "outputs": [],
   "source": [
    "with gzip.open('data/zipcode/zip.train.gz', 'r') as f:\n",
    "    train_data = f.read()"
   ]
  },
  {
   "cell_type": "code",
   "execution_count": 37,
   "metadata": {},
   "outputs": [
    {
     "data": {
      "text/plain": [
       "bytes"
      ]
     },
     "execution_count": 37,
     "metadata": {},
     "output_type": "execute_result"
    }
   ],
   "source": [
    "type(train_data)"
   ]
  },
  {
   "cell_type": "code",
   "execution_count": 66,
   "metadata": {},
   "outputs": [],
   "source": [
    "train_data = train_data.decode()\n",
    "train_data_split = train_data.split('\\n')"
   ]
  },
  {
   "cell_type": "code",
   "execution_count": 100,
   "metadata": {},
   "outputs": [
    {
     "data": {
      "text/plain": [
       "7292"
      ]
     },
     "execution_count": 100,
     "metadata": {},
     "output_type": "execute_result"
    }
   ],
   "source": [
    "len(train_data_split)"
   ]
  },
  {
   "cell_type": "code",
   "execution_count": 103,
   "metadata": {},
   "outputs": [
    {
     "data": {
      "text/plain": [
       "7291"
      ]
     },
     "execution_count": 103,
     "metadata": {},
     "output_type": "execute_result"
    }
   ],
   "source": [
    "len(train_data_split[:-1])"
   ]
  },
  {
   "cell_type": "code",
   "execution_count": 67,
   "metadata": {},
   "outputs": [
    {
     "data": {
      "text/plain": [
       "'6.0000 -1.0000 -1.0000 -1.0000 -1.0000 -1.0000 -1.0000 -1.0000 -0.6310 0.8620 -0.1670 -1.0000 -1.0000 -1.0000 -1.0000 -1.0000 -1.0000 -1.0000 -1.0000 -1.0000 -1.0000 -1.0000 -1.0000 -0.9920 0.2970 1.0000 0.3070 -1.0000 -1.0000 -1.0000 -1.0000 -1.0000 -1.0000 -1.0000 -1.0000 -1.0000 -1.0000 -1.0000 -1.0000 -0.4100 1.0000 0.9860 -0.5650 -1.0000 -1.0000 -1.0000 -1.0000 -1.0000 -1.0000 -1.0000 -1.0000 -1.0000 -1.0000 -1.0000 -0.6830 0.8250 1.0000 0.5620 -1.0000 -1.0000 -1.0000 -1.0000 -1.0000 -1.0000 -1.0000 -1.0000 -1.0000 -1.0000 -1.0000 -0.9380 0.5400 1.0000 0.7780 -0.7150 -1.0000 -1.0000 -1.0000 -1.0000 -1.0000 -1.0000 -1.0000 -1.0000 -1.0000 -1.0000 -1.0000 0.1000 1.0000 0.9220 -0.4390 -1.0000 -1.0000 -1.0000 -1.0000 -1.0000 -1.0000 -1.0000 -1.0000 -1.0000 -1.0000 -1.0000 -0.2570 0.9500 1.0000 -0.1620 -1.0000 -1.0000 -1.0000 -0.9870 -0.7140 -0.8320 -1.0000 -1.0000 -1.0000 -1.0000 -1.0000 -0.7970 0.9090 1.0000 0.3000 -0.9610 -1.0000 -1.0000 -0.5500 0.4850 0.9960 0.8670 0.0920 -1.0000 -1.0000 -1.0000 -1.0000 0.2780 1.0000 0.8770 -0.8240 -1.0000 -0.9050 0.1450 0.9770 1.0000 1.0000 1.0000 0.9900 -0.7450 -1.0000 -1.0000 -0.9500 0.8470 1.0000 0.3270 -1.0000 -1.0000 0.3550 1.0000 0.6550 -0.1090 -0.1850 1.0000 0.9880 -0.7230 -1.0000 -1.0000 -0.6300 1.0000 1.0000 0.0680 -0.9250 0.1130 0.9600 0.3080 -0.8840 -1.0000 -0.0750 1.0000 0.6410 -0.9950 -1.0000 -1.0000 -0.6770 1.0000 1.0000 0.7530 0.3410 1.0000 0.7070 -0.9420 -1.0000 -1.0000 0.5450 1.0000 0.0270 -1.0000 -1.0000 -1.0000 -0.9030 0.7920 1.0000 1.0000 1.0000 1.0000 0.5360 0.1840 0.8120 0.8370 0.9780 0.8640 -0.6300 -1.0000 -1.0000 -1.0000 -1.0000 -0.4520 0.8280 1.0000 1.0000 1.0000 1.0000 1.0000 1.0000 1.0000 1.0000 0.1350 -1.0000 -1.0000 -1.0000 -1.0000 -1.0000 -1.0000 -0.4830 0.8130 1.0000 1.0000 1.0000 1.0000 1.0000 1.0000 0.2190 -0.9430 -1.0000 -1.0000 -1.0000 -1.0000 -1.0000 -1.0000 -1.0000 -0.9740 -0.4290 0.3040 0.8230 1.0000 0.4820 -0.4740 -0.9910 -1.0000 -1.0000 -1.0000 -1.0000 '"
      ]
     },
     "execution_count": 67,
     "metadata": {},
     "output_type": "execute_result"
    }
   ],
   "source": [
    "train_data_split[0]"
   ]
  },
  {
   "cell_type": "code",
   "execution_count": 86,
   "metadata": {},
   "outputs": [],
   "source": [
    "train_data_line = train_data_split[0].split(' ')"
   ]
  },
  {
   "cell_type": "code",
   "execution_count": 87,
   "metadata": {},
   "outputs": [
    {
     "data": {
      "text/plain": [
       "258"
      ]
     },
     "execution_count": 87,
     "metadata": {},
     "output_type": "execute_result"
    }
   ],
   "source": [
    "len(train_data_line)"
   ]
  },
  {
   "cell_type": "code",
   "execution_count": 97,
   "metadata": {},
   "outputs": [
    {
     "data": {
      "text/plain": [
       "6"
      ]
     },
     "execution_count": 97,
     "metadata": {},
     "output_type": "execute_result"
    }
   ],
   "source": [
    "label0 = int(float(train_data_line[0]))\n",
    "label0"
   ]
  },
  {
   "cell_type": "code",
   "execution_count": 89,
   "metadata": {},
   "outputs": [],
   "source": [
    "image0 = train_data_line[1:-1]"
   ]
  },
  {
   "cell_type": "code",
   "execution_count": 91,
   "metadata": {},
   "outputs": [],
   "source": [
    "image0 = [float(x) for x in image0]"
   ]
  },
  {
   "cell_type": "code",
   "execution_count": 92,
   "metadata": {},
   "outputs": [],
   "source": [
    "image0 = np.array(image0).reshape(16,16)"
   ]
  },
  {
   "cell_type": "code",
   "execution_count": 93,
   "metadata": {},
   "outputs": [],
   "source": [
    "import matplotlib.pyplot as plt"
   ]
  },
  {
   "cell_type": "code",
   "execution_count": 94,
   "metadata": {},
   "outputs": [
    {
     "data": {
      "text/plain": [
       "<matplotlib.image.AxesImage at 0x7fa830927490>"
      ]
     },
     "execution_count": 94,
     "metadata": {},
     "output_type": "execute_result"
    },
    {
     "data": {
      "image/png": "[encoded data removed]",
      "text/plain": [
       "<Figure size 432x288 with 1 Axes>"
      ]
     },
     "metadata": {
      "needs_background": "light"
     },
     "output_type": "display_data"
    }
   ],
   "source": [
    "fig = plt.figure\n",
    "plt.imshow(image0, cmap='gray')"
   ]
  },
  {
   "cell_type": "markdown",
   "metadata": {},
   "source": [
    "### Functions for data loading"
   ]
  },
  {
   "cell_type": "code",
   "execution_count": 99,
   "metadata": {},
   "outputs": [],
   "source": [
    "with gzip.open('data/zipcode/zip.train.gz', 'r') as f:\n",
    "    train_data = f.read()\n",
    "with gzip.open('data/zipcode/zip.test.gz', 'r') as f:\n",
    "    test_data = f.read()"
   ]
  },
  {
   "cell_type": "code",
   "execution_count": 134,
   "metadata": {},
   "outputs": [],
   "source": [
    "def prepare_train_data(data: bytes):\n",
    "    \"\"\"\n",
    "    Convert bytes data to data label and np array.\n",
    "    \"\"\"\n",
    "    data = data.decode()\n",
    "    data_split = data.split('\\n')[:-1]\n",
    "    labels = np.zeros(len(data_split))\n",
    "    images = np.zeros([len(data_split), 16, 16])\n",
    "    for i in range(len(data_split)):\n",
    "        line = data_split[i].split(' ')[:-1]\n",
    "        label = line[0]\n",
    "        labels[i] = int(float(label))\n",
    "        image = line[1:]\n",
    "        image = [float(x) for x in image]\n",
    "        images[i] = np.array(image).reshape(16,16)\n",
    "    return labels, images\n",
    "        "
   ]
  },
  {
   "cell_type": "markdown",
   "metadata": {},
   "source": [
    "### Train Data"
   ]
  },
  {
   "cell_type": "code",
   "execution_count": 169,
   "metadata": {},
   "outputs": [],
   "source": [
    "train_labels, train_images = prepare_train_data(train_data)"
   ]
  },
  {
   "cell_type": "code",
   "execution_count": 126,
   "metadata": {},
   "outputs": [
    {
     "name": "stdout",
     "output_type": "stream",
     "text": [
      "train_data: 7291\n"
     ]
    }
   ],
   "source": [
    "print('train_data:', len(train_labels))"
   ]
  },
  {
   "cell_type": "code",
   "execution_count": 127,
   "metadata": {},
   "outputs": [
    {
     "name": "stdout",
     "output_type": "stream",
     "text": [
      "Selected 5 labels: [6. 9. 0. 7. 0.]\n",
      "Selected 5 images:\n"
     ]
    },
    {
     "data": {
      "text/plain": [
       "<matplotlib.image.AxesImage at 0x7fa871454cd0>"
      ]
     },
     "execution_count": 127,
     "metadata": {},
     "output_type": "execute_result"
    },
    {
     "data": {
      "image/png": "[encoded data removed]",
      "text/plain": [
       "<Figure size 432x288 with 5 Axes>"
      ]
     },
     "metadata": {
      "needs_background": "light"
     },
     "output_type": "display_data"
    }
   ],
   "source": [
    "select = [0, 1000, 2000, 3000, 4000]\n",
    "print('Selected 5 labels:', train_labels[select])\n",
    "print('Selected 5 images:')\n",
    "fig = plt.figure(0)\n",
    "ax1 = fig.add_subplot(1,5,1)\n",
    "ax1.imshow(train_images[0], cmap='gray')\n",
    "ax2 = fig.add_subplot(1,5,2)\n",
    "ax2.imshow(train_images[1000], cmap='gray')\n",
    "ax3 = fig.add_subplot(1,5,3)\n",
    "ax3.imshow(train_images[2000], cmap='gray')\n",
    "ax4 = fig.add_subplot(1,5,4)\n",
    "ax4.imshow(train_images[3000], cmap='gray')\n",
    "ax5 = fig.add_subplot(1,5,5)\n",
    "ax5.imshow(train_images[4000], cmap='gray')"
   ]
  },
  {
   "cell_type": "markdown",
   "metadata": {},
   "source": [
    "### Test Data"
   ]
  },
  {
   "cell_type": "code",
   "execution_count": 139,
   "metadata": {},
   "outputs": [
    {
     "data": {
      "text/plain": [
       "2008"
      ]
     },
     "execution_count": 139,
     "metadata": {},
     "output_type": "execute_result"
    }
   ],
   "source": [
    "len(test_data.decode().split('\\n'))"
   ]
  },
  {
   "cell_type": "code",
   "execution_count": 138,
   "metadata": {},
   "outputs": [
    {
     "data": {
      "text/plain": [
       "''"
      ]
     },
     "execution_count": 138,
     "metadata": {},
     "output_type": "execute_result"
    }
   ],
   "source": [
    "test_data.decode().split('\\n')[-1]"
   ]
  },
  {
   "cell_type": "code",
   "execution_count": 135,
   "metadata": {},
   "outputs": [
    {
     "name": "stdout",
     "output_type": "stream",
     "text": [
      "['9', '-1', '-1', '-1', '-1', '-1', '-0.948', '-0.561', '0.148', '0.384', '0.904', '0.29', '-0.782', '-1', '-1', '-1', '-1', '-1', '-1', '-1', '-1', '-0.748', '0.588', '1', '1', '0.991', '0.915', '1', '0.931', '-0.476', '-1', '-1', '-1', '-1', '-1', '-1', '-0.787', '0.794', '1', '0.727', '-0.178', '-0.693', '-0.786', '-0.624', '0.834', '0.756', '-0.822', '-1', '-1', '-1', '-1', '-0.922', '0.81', '1', '0.01', '-0.928', '-1', '-1', '-1', '-1', '-0.39', '1', '0.271', '-1', '-1', '-1', '-1', '0.012', '1', '0.248', '-1', '-1', '-1', '-1', '-1', '-0.402', '0.326', '1', '0.801', '-0.998', '-1', '-1', '-0.981', '0.645', '1', '-0.687', '-1', '-1', '-1', '-1', '-0.792', '0.976', '1', '1', '0.413', '-0.976', '-1', '-1', '-0.993', '0.834', '0.897', '-0.951', '-1', '-1', '-1', '-0.831', '0.14', '1', '1', '0.302', '-0.889', '-1', '-1', '-1', '-1', '0.356', '0.794', '-0.836', '-1', '-0.445', '0.074', '0.833', '1', '1', '0.696', '-0.881', '-1', '-1', '-1', '-1', '-1', '-0.368', '0.955', '1', '1', '1', '1', '0.905', '1', '1', '-0.262', '-1', '-1', '-1', '-1', '-1', '-1', '-1', '-0.507', '0.451', '0.692', '0.692', '-0.007', '-0.237', '1', '0.882', '-0.795', '-1', '-1', '-1', '-1', '-1', '-1', '-1', '-1', '-1', '-1', '-1', '-1', '0.155', '1', '0.436', '-1', '-1', '-1', '-1', '-1', '-1', '-1', '-1', '-1', '-1', '-1', '-1', '-0.991', '0.703', '1', '-0.025', '-1', '-1', '-1', '-1', '-1', '-1', '-1', '-1', '-1', '-1', '-1', '-1', '-0.833', '0.959', '1', '-0.629', '-1', '-1', '-1', '-1', '-1', '-1', '-1', '-1', '-1', '-1', '-1', '-1', '-0.6', '0.998', '0.841', '-0.932', '-1', '-1', '-1', '-1', '-1', '-1', '-1', '-1', '-1', '-1', '-1', '-1', '-0.424', '1', '0.732', '-1', '-1', '-1', '-1', '-1', '-1', '-1', '-1', '-1', '-1', '-1', '-1', '-1', '-0.908', '0.43', '0.622', '-0.973', '-1', '-1', '-1', '-1', '-1']\n"
     ]
    }
   ],
   "source": [
    "print(test_data.decode().split('\\n')[0].split(' '))"
   ]
  },
  {
   "cell_type": "code",
   "execution_count": 140,
   "metadata": {},
   "outputs": [],
   "source": [
    "def prepare_test_data(data: bytes):\n",
    "    \"\"\"\n",
    "    Convert bytes data to data label and np array.\n",
    "    \"\"\"\n",
    "    data = data.decode()\n",
    "    data_split = data.split('\\n')[:-1]\n",
    "    labels = np.zeros(len(data_split))\n",
    "    images = np.zeros([len(data_split), 16, 16])\n",
    "    for i in range(len(data_split)):\n",
    "        line = data_split[i].split(' ')\n",
    "        label = line[0]\n",
    "        labels[i] = int(float(label))\n",
    "        image = line[1:]\n",
    "        image = [float(x) for x in image]\n",
    "        images[i] = np.array(image).reshape(16,16)\n",
    "    return labels, images\n",
    "        "
   ]
  },
  {
   "cell_type": "code",
   "execution_count": 141,
   "metadata": {},
   "outputs": [],
   "source": [
    "test_labels, test_images = prepare_test_data(test_data)"
   ]
  },
  {
   "cell_type": "code",
   "execution_count": 142,
   "metadata": {},
   "outputs": [
    {
     "name": "stdout",
     "output_type": "stream",
     "text": [
      "test_data: 2007\n"
     ]
    }
   ],
   "source": [
    "print('test_data:', len(test_labels))"
   ]
  },
  {
   "cell_type": "code",
   "execution_count": 143,
   "metadata": {},
   "outputs": [
    {
     "name": "stdout",
     "output_type": "stream",
     "text": [
      "Selected 5 labels: [9. 0. 3. 9. 1.]\n",
      "Selected 5 images:\n"
     ]
    },
    {
     "data": {
      "text/plain": [
       "<matplotlib.image.AxesImage at 0x7fa8714e14d0>"
      ]
     },
     "execution_count": 143,
     "metadata": {},
     "output_type": "execute_result"
    },
    {
     "data": {
      "image/png": "[encoded data removed]",
      "text/plain": [
       "<Figure size 432x288 with 5 Axes>"
      ]
     },
     "metadata": {
      "needs_background": "light"
     },
     "output_type": "display_data"
    }
   ],
   "source": [
    "select = [0, 100, 200, 300, 400]\n",
    "print('Selected 5 labels:', test_labels[select])\n",
    "print('Selected 5 images:')\n",
    "fig = plt.figure(1)\n",
    "ax1 = fig.add_subplot(1,5,1)\n",
    "ax1.imshow(test_images[0], cmap='gray')\n",
    "ax2 = fig.add_subplot(1,5,2)\n",
    "ax2.imshow(test_images[100], cmap='gray')\n",
    "ax3 = fig.add_subplot(1,5,3)\n",
    "ax3.imshow(test_images[200], cmap='gray')\n",
    "ax4 = fig.add_subplot(1,5,4)\n",
    "ax4.imshow(test_images[300], cmap='gray')\n",
    "ax5 = fig.add_subplot(1,5,5)\n",
    "ax5.imshow(test_images[400], cmap='gray')"
   ]
  },
  {
   "cell_type": "markdown",
   "metadata": {},
   "source": [
    "### For this exercise we are only taking label 2 & 3."
   ]
  },
  {
   "cell_type": "markdown",
   "metadata": {},
   "source": [
    "And we are only using LR and KNN, so we reshape x from (16,16) to a 256-d vector, padding with 1 in the beginning as x0."
   ]
  },
  {
   "cell_type": "code",
   "execution_count": 200,
   "metadata": {},
   "outputs": [],
   "source": [
    "train_index = np.where((train_labels==2)|(train_labels==3))[0]"
   ]
  },
  {
   "cell_type": "code",
   "execution_count": 234,
   "metadata": {},
   "outputs": [],
   "source": [
    "train_y = train_labels[train_index]\n",
    "train_x = train_images[train_index]\n",
    "train_x_reshape = train_x.reshape(len(train_x), 256)\n",
    "mat_x = np.hstack((np.ones((len(train_x_reshape), 1)), train_x_reshape))"
   ]
  },
  {
   "cell_type": "code",
   "execution_count": 235,
   "metadata": {},
   "outputs": [
    {
     "data": {
      "text/plain": [
       "(1389, 257)"
      ]
     },
     "execution_count": 235,
     "metadata": {},
     "output_type": "execute_result"
    }
   ],
   "source": [
    "mat_x.shape"
   ]
  },
  {
   "cell_type": "code",
   "execution_count": 237,
   "metadata": {},
   "outputs": [
    {
     "data": {
      "text/plain": [
       "(1389,)"
      ]
     },
     "execution_count": 237,
     "metadata": {},
     "output_type": "execute_result"
    }
   ],
   "source": [
    "train_y.shape"
   ]
  },
  {
   "cell_type": "code",
   "execution_count": 203,
   "metadata": {},
   "outputs": [],
   "source": [
    "test_index = np.where((test_labels==2)|(test_labels==3))[0]"
   ]
  },
  {
   "cell_type": "code",
   "execution_count": 238,
   "metadata": {},
   "outputs": [],
   "source": [
    "test_y = test_labels[test_index]\n",
    "test_x = test_images[test_index]\n",
    "test_x_reshape = test_x.reshape(len(test_x), 256)\n",
    "test_mat_x = np.hstack((np.ones((len(test_x_reshape), 1)), test_x_reshape))"
   ]
  },
  {
   "cell_type": "code",
   "execution_count": 239,
   "metadata": {},
   "outputs": [
    {
     "data": {
      "text/plain": [
       "(364, 257)"
      ]
     },
     "execution_count": 239,
     "metadata": {},
     "output_type": "execute_result"
    }
   ],
   "source": [
    "test_mat_x.shape"
   ]
  },
  {
   "cell_type": "code",
   "execution_count": 240,
   "metadata": {},
   "outputs": [
    {
     "data": {
      "text/plain": [
       "(364,)"
      ]
     },
     "execution_count": 240,
     "metadata": {},
     "output_type": "execute_result"
    }
   ],
   "source": [
    "test_y.shape"
   ]
  },
  {
   "cell_type": "markdown",
   "metadata": {},
   "source": [
    "# 1. Linear Regression"
   ]
  },
  {
   "cell_type": "markdown",
   "metadata": {},
   "source": [
    "### Train"
   ]
  },
  {
   "cell_type": "code",
   "execution_count": 281,
   "metadata": {},
   "outputs": [],
   "source": [
    "# Linear regression\n",
    "mat_xt = np.transpose(mat_x)\n",
    "\n",
    "# Solve (X^T*X)b = X^T*y for b\n",
    "ols_beta = np.linalg.solve(np.matmul(mat_xt, mat_x), np.matmul(mat_xt, train_y))\n"
   ]
  },
  {
   "cell_type": "code",
   "execution_count": 282,
   "metadata": {},
   "outputs": [
    {
     "data": {
      "text/plain": [
       "(257,)"
      ]
     },
     "execution_count": 282,
     "metadata": {},
     "output_type": "execute_result"
    }
   ],
   "source": [
    "ols_beta.shape"
   ]
  },
  {
   "cell_type": "code",
   "execution_count": 283,
   "metadata": {},
   "outputs": [],
   "source": [
    "train_results = np.zeros(len(train_y))\n",
    "for i in range(len(train_y)):\n",
    "    result = np.matmul(np.transpose(mat_x[i]), ols_beta)\n",
    "    if result > 2.5:\n",
    "        train_results[i] = 3.0\n",
    "    else:\n",
    "        train_results[i] = 2.0"
   ]
  },
  {
   "cell_type": "code",
   "execution_count": 284,
   "metadata": {},
   "outputs": [
    {
     "name": "stdout",
     "output_type": "stream",
     "text": [
      "train error rate: 0.0\n"
     ]
    }
   ],
   "source": [
    "lr_train_error_rate = sum(abs(train_results - train_y))/len(train_y)\n",
    "print('train error rate:', train_error_rate)"
   ]
  },
  {
   "cell_type": "markdown",
   "metadata": {},
   "source": [
    "### Test"
   ]
  },
  {
   "cell_type": "code",
   "execution_count": 285,
   "metadata": {},
   "outputs": [],
   "source": [
    "test_results = np.zeros(len(test_y))\n",
    "for i in range(len(test_y)):\n",
    "    result = np.matmul(np.transpose(test_mat_x[i]), ols_beta)\n",
    "    if result > 2.5:\n",
    "        test_results[i] = 3.0\n",
    "    else:\n",
    "        test_results[i] = 2.0"
   ]
  },
  {
   "cell_type": "code",
   "execution_count": 286,
   "metadata": {},
   "outputs": [
    {
     "name": "stdout",
     "output_type": "stream",
     "text": [
      "test error rate: 0.024725274725274724\n"
     ]
    }
   ],
   "source": [
    "lr_test_error_rate = sum(abs(test_results - test_y))/len(test_y)\n",
    "print('test error rate:', test_error_rate)"
   ]
  },
  {
   "cell_type": "markdown",
   "metadata": {},
   "source": [
    "# 2. KNN"
   ]
  },
  {
   "cell_type": "markdown",
   "metadata": {},
   "source": [
    "Don't need 1 padding. So we use train_x_reshape."
   ]
  },
  {
   "cell_type": "code",
   "execution_count": 266,
   "metadata": {},
   "outputs": [],
   "source": [
    "def knn(k, sample, data_x, data_y):\n",
    "    distances = [(sum((x - sample)**2), x, y) for x, y in zip(data_x, data_y)]\n",
    "    distances = sorted(distances, key=lambda x: x[0])\n",
    "    knn = sum([item[2] for item in (distances[:k])])/k\n",
    "    return knn"
   ]
  },
  {
   "cell_type": "markdown",
   "metadata": {},
   "source": [
    "## K = 1"
   ]
  },
  {
   "cell_type": "code",
   "execution_count": 267,
   "metadata": {},
   "outputs": [],
   "source": [
    "k = 1"
   ]
  },
  {
   "cell_type": "code",
   "execution_count": 268,
   "metadata": {},
   "outputs": [
    {
     "data": {
      "text/plain": [
       "3.0"
      ]
     },
     "execution_count": 268,
     "metadata": {},
     "output_type": "execute_result"
    }
   ],
   "source": [
    "knn(k, train_x_reshape[0], train_x_reshape, train_y)"
   ]
  },
  {
   "cell_type": "markdown",
   "metadata": {},
   "source": [
    "### Train"
   ]
  },
  {
   "cell_type": "code",
   "execution_count": 272,
   "metadata": {},
   "outputs": [],
   "source": [
    "train_results = np.zeros(len(train_y))\n",
    "for i in range(len(train_y)):\n",
    "    result = knn(k, train_x_reshape[i], train_x_reshape, train_y)\n",
    "    if result > 2.5:\n",
    "        train_results[i] = 3.0\n",
    "    else:\n",
    "        train_results[i] = 2.0"
   ]
  },
  {
   "cell_type": "code",
   "execution_count": 273,
   "metadata": {},
   "outputs": [
    {
     "name": "stdout",
     "output_type": "stream",
     "text": [
      "train error rate: 0.0\n"
     ]
    }
   ],
   "source": [
    "train_error_rate = sum(abs(train_results - train_y))/len(train_y)\n",
    "print('train error rate:', train_error_rate)"
   ]
  },
  {
   "cell_type": "markdown",
   "metadata": {},
   "source": [
    "### Test"
   ]
  },
  {
   "cell_type": "code",
   "execution_count": 274,
   "metadata": {},
   "outputs": [],
   "source": [
    "test_results = np.zeros(len(test_y))\n",
    "for i in range(len(test_y)):\n",
    "    result = knn(k, test_x_reshape[i], train_x_reshape, train_y)\n",
    "    if result > 2.5:\n",
    "        test_results[i] = 3.0\n",
    "    else:\n",
    "        test_results[i] = 2.0"
   ]
  },
  {
   "cell_type": "code",
   "execution_count": 275,
   "metadata": {},
   "outputs": [
    {
     "name": "stdout",
     "output_type": "stream",
     "text": [
      "test error rate: 0.024725274725274724\n"
     ]
    }
   ],
   "source": [
    "test_error_rate = sum(abs(test_results - test_y))/len(test_y)\n",
    "print('test error rate:', test_error_rate)"
   ]
  },
  {
   "cell_type": "markdown",
   "metadata": {},
   "source": [
    "## K = 1,3,5,7,15"
   ]
  },
  {
   "cell_type": "code",
   "execution_count": 277,
   "metadata": {},
   "outputs": [],
   "source": [
    "k_list = [1,3,5,7,15]"
   ]
  },
  {
   "cell_type": "code",
   "execution_count": 280,
   "metadata": {},
   "outputs": [],
   "source": [
    "train_error_rates = np.zeros(5)\n",
    "test_error_rates = np.zeros(5)\n",
    "for j in range(5):\n",
    "    k = k_list[j]\n",
    "    # Train\n",
    "    train_results = np.zeros(len(train_y))\n",
    "    for i in range(len(train_y)):\n",
    "        result = knn(k, train_x_reshape[i], train_x_reshape, train_y)\n",
    "        if result > 2.5:\n",
    "            train_results[i] = 3.0\n",
    "        else:\n",
    "            train_results[i] = 2.0\n",
    "    train_error_rates[j] = sum(abs(train_results - train_y))/len(train_y)\n",
    "    # Test\n",
    "    test_results = np.zeros(len(test_y))\n",
    "    for i in range(len(test_y)):\n",
    "        result = knn(k, test_x_reshape[i], train_x_reshape, train_y)\n",
    "        if result > 2.5:\n",
    "            test_results[i] = 3.0\n",
    "        else:\n",
    "            test_results[i] = 2.0\n",
    "    test_error_rates[j] = sum(abs(test_results - test_y))/len(test_y)"
   ]
  },
  {
   "cell_type": "markdown",
   "metadata": {},
   "source": [
    "### Plot"
   ]
  },
  {
   "cell_type": "code",
   "execution_count": 310,
   "metadata": {},
   "outputs": [
    {
     "data": {
      "image/png": "[encoded data removed]",
      "text/plain": [
       "<Figure size 432x288 with 1 Axes>"
      ]
     },
     "metadata": {
      "needs_background": "light"
     },
     "output_type": "display_data"
    }
   ],
   "source": [
    "fig2 = plt.figure()\n",
    "plt.plot(k_list, train_error_rates, '-', color = 'blue', label = 'knn_train_error_rate')\n",
    "plt.plot(k_list, train_error_rates, 'o', color = 'blue')\n",
    "plt.plot(k_list, test_error_rates, '-', color = 'green', label = 'knn_test_error_rate')\n",
    "plt.plot(k_list, test_error_rates, 'o', color = 'green')\n",
    "plt.axhline(y=lr_train_error_rate, linestyle='--', color='blue', alpha = 0.6, label = 'lr_train_error_rate')\n",
    "plt.axhline(y=lr_test_error_rate, linestyle='--', color='green', alpha = 0.6, label = 'lr_test_error_rate')\n",
    "plt.legend()\n",
    "plt.title('KNN vs LR error rates')\n",
    "plt.xlabel('k')\n",
    "plt.ylabel('error rate')\n",
    "plt.show()"
   ]
  }
 ],
 "metadata": {
  "kernelspec": {
   "display_name": "Python 3",
   "language": "python",
   "name": "python3"
  },
  "language_info": {
   "codemirror_mode": {
    "name": "ipython",
    "version": 3
   },
   "file_extension": ".py",
   "mimetype": "text/x-python",
   "name": "python",
   "nbconvert_exporter": "python",
   "pygments_lexer": "ipython3",
   "version": "3.7.6"
  }
 },
 "nbformat": 4,
 "nbformat_minor": 4
}
